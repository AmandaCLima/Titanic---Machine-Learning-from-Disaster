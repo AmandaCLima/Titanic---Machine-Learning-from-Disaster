{
  "nbformat": 4,
  "nbformat_minor": 0,
  "metadata": {
    "colab": {
      "provenance": [],
      "collapsed_sections": [
        "EljbUuOknns2"
      ]
    },
    "kernelspec": {
      "name": "python3",
      "display_name": "Python 3"
    },
    "language_info": {
      "name": "python"
    }
  },
  "cells": [
    {
      "cell_type": "markdown",
      "source": [
        "# Mini-Projeto MLP: Classificação de Sobreviventes do Titanic"
      ],
      "metadata": {
        "id": "sv5Gambtn0tS"
      }
    },
    {
      "cell_type": "markdown",
      "source": [
        "## Grupo\n",
        "* Amanda Cristina (acfml)\n",
        "* João Marcos (jmav)\n",
        "* Mateus Galdino (mglg)\n",
        "* Matheus Augusto (mams4)\n",
        "* Rodrigo Rossiter Ladvocat Cintra (rrlc)\n",
        "\n",
        "## Visão Geral do Projeto\n",
        "Este notebook documenta o desenvolvimento de um modelo de Machine Learning para prever a sobrevivência de passageiros do navio Titanic. O desafio consiste em utilizar Redes Neurais Artificiais, especificamente o modelo Multilayer Perceptron (MLP), para classificar os passageiros com base em seus atributos, como classe, idade e sexo.\n",
        "\n",
        "### Objetivos Específicos\n",
        "- **Análise Exploratória:** Investigar o dataset para extrair insights e compreender as relações entre as variáveis.\n",
        "- **Engenharia de Atributos:** Realizar o tratamento de dados faltantes, a codificação de variáveis categóricas (como 'sexo' e 'porto de embarque') e a normalização de variáveis numéricas.\n",
        "- **Modelagem com MLP:** Construir, treinar e validar um classificador MLP, experimentando diferentes arquiteturas e hiperparâmetros.\n",
        "- **Avaliação de Desempenho:** Avaliar a performance final do modelo utilizando métricas como acurácia, precisão, recall e matriz de confusão.\n",
        "\n",
        "### Metodologia Aplicada\n",
        "A abordagem será dividida nas seguintes fases:\n",
        "1.  **Carregamento e Análise dos Dados:** Importação das bibliotecas e do dataset, seguida por uma exploração inicial.\n",
        "2.  **Pré-processamento:** Limpeza e transformação dos dados para garantir que estejam prontos para o treinamento.\n",
        "3.  **Definição e Treinamento do Modelo:** Configuração da arquitetura do MLP e execução do processo de treinamento.\n",
        "4.  **Avaliação e Conclusão:** Análise dos resultados obtidos no conjunto de teste e apresentação das conclusões do projeto."
      ],
      "metadata": {
        "id": "ISGbHThedxCv"
      }
    },
    {
      "cell_type": "markdown",
      "source": [
        "## Importando bibliotecas"
      ],
      "metadata": {
        "id": "EljbUuOknns2"
      }
    },
    {
      "cell_type": "markdown",
      "source": [
        "Explicar as bibs que estamos usando e o que elas fazem!!!"
      ],
      "metadata": {
        "id": "uBl42nxehvGS"
      }
    },
    {
      "cell_type": "code",
      "execution_count": null,
      "metadata": {
        "id": "OUq8EdRVmeOZ"
      },
      "outputs": [],
      "source": [
        "import numpy as np\n",
        "import pandas as pd\n",
        "import matplotlib.pyplot as plt\n",
        "import seaborn as sns\n",
        "import warnings\n",
        "from sklearn.model_selection import train_test_split\n",
        "from imblearn.over_sampling import RandomOverSampler\n",
        "from sklearn.compose import ColumnTransformer\n",
        "from sklearn.preprocessing import OneHotEncoder\n",
        "from sklearn.preprocessing import LabelEncoder\n",
        "from sklearn.preprocessing import MinMaxScaler\n",
        "from sklearn.preprocessing import StandardScaler\n",
        "from sklearn.model_selection import StratifiedKFold\n",
        "from sklearn.neural_network import MLPClassifier\n",
        "from sklearn.metrics import accuracy_score, classification_report, f1_score\n",
        "from sklearn.impute import SimpleImputer\n",
        "from sklearn.exceptions import ConvergenceWarning\n",
        "\n",
        "\n"
      ]
    },
    {
      "cell_type": "markdown",
      "source": [
        "## **Parte 1 - Análise dos Dados**"
      ],
      "metadata": {
        "id": "PAidhQAon_Tm"
      }
    },
    {
      "cell_type": "markdown",
      "source": [
        "O dataset utilizado é o da base de dados do kaggle **\"Titanic - Machine Learning from Disaster\"**, que é um conjunto de dados clássico, amplamente utilizado para o ensino e prática de técnicas de **aprendizado de máquina**.\n",
        "\n",
        "Ele contém informações detalhadas sobre os passageiros a bordo do **RMS Titanic**, que naufragou em sua viagem inaugural em 1912.\n",
        "\n",
        "Entre as variáveis disponíveis estão:\n",
        "\n",
        "- **PassengerId** – Identificador único de cada passageiro  \n",
        "- **Survived** – Variável alvo: indica se o passageiro sobreviveu (\"1\") ou não (\"0\")  \n",
        "- **Pclass** – Classe do bilhete (1ª, 2ª ou 3ª classe)  \n",
        "- **Name** – Nome completo do passageiro  \n",
        "- **Sex** – Gênero do passageiro (\"male\" ou \"female\")  \n",
        "- **Age** – Idade do passageiro em anos  \n",
        "- **SibSp** – Número de irmãos/cônjuges a bordo  \n",
        "- **Parch** – Número de pais/filhos a bordo  \n",
        "- **Ticket** – Número do bilhete  \n",
        "- **Fare** – Tarifa paga pelo bilhete  \n",
        "- **Cabin** – Número da cabine (muitos valores ausentes)  \n",
        "- **Embarked** – Porto de embarque (\"C\" = Cherbourg, \"Q\" = Queenstown, \"S\" = Southampton)\n",
        "\n",
        "A **variável alvo** é \"Survived\", que indica se um passageiro **sobreviveu** (\"1\") ou **não sobreviveu** (\"0\") ao desastre.\n",
        "\n",
        "https://www.kaggle.com/c/titanic/data"
      ],
      "metadata": {
        "id": "Tl9e2ksum_5I"
      }
    },
    {
      "cell_type": "code",
      "source": [
        "url_train = 'https://raw.githubusercontent.com/NotAyushXD/Titanic-dataset/master/train.csv'\n",
        "url_test = 'https://raw.githubusercontent.com/NotAyushXD/Titanic-dataset/master/test.csv'\n",
        "\n",
        "# Leitura dos datasets\n",
        "train_set = pd.read_csv(url_train)\n",
        "test_set = pd.read_csv(url_test)"
      ],
      "metadata": {
        "id": "8Zia9eseoLx7"
      },
      "execution_count": null,
      "outputs": []
    },
    {
      "cell_type": "markdown",
      "source": [
        "Conjunto dos dados de treino e teste"
      ],
      "metadata": {
        "id": "E_NGIWQanJO3"
      }
    },
    {
      "cell_type": "code",
      "source": [
        "print(\"Train Set:\")\n",
        "display(train_set)\n",
        "\n",
        "print(\"Test Set:\")\n",
        "display(test_set)"
      ],
      "metadata": {
        "colab": {
          "base_uri": "https://localhost:8080/",
          "height": 864
        },
        "id": "ks3kQ_ISm9hc",
        "outputId": "26d3bfd7-6456-4ae4-fe09-42ac9d647f4f"
      },
      "execution_count": null,
      "outputs": [
        {
          "output_type": "stream",
          "name": "stdout",
          "text": [
            "Train Set:\n"
          ]
        },
        {
          "output_type": "display_data",
          "data": {
            "text/plain": [
              "     PassengerId  Survived  Pclass  \\\n",
              "0              1         0       3   \n",
              "1              2         1       1   \n",
              "2              3         1       3   \n",
              "3              4         1       1   \n",
              "4              5         0       3   \n",
              "..           ...       ...     ...   \n",
              "886          887         0       2   \n",
              "887          888         1       1   \n",
              "888          889         0       3   \n",
              "889          890         1       1   \n",
              "890          891         0       3   \n",
              "\n",
              "                                                  Name     Sex   Age  SibSp  \\\n",
              "0                              Braund, Mr. Owen Harris    male  22.0      1   \n",
              "1    Cumings, Mrs. John Bradley (Florence Briggs Th...  female  38.0      1   \n",
              "2                               Heikkinen, Miss. Laina  female  26.0      0   \n",
              "3         Futrelle, Mrs. Jacques Heath (Lily May Peel)  female  35.0      1   \n",
              "4                             Allen, Mr. William Henry    male  35.0      0   \n",
              "..                                                 ...     ...   ...    ...   \n",
              "886                              Montvila, Rev. Juozas    male  27.0      0   \n",
              "887                       Graham, Miss. Margaret Edith  female  19.0      0   \n",
              "888           Johnston, Miss. Catherine Helen \"Carrie\"  female   NaN      1   \n",
              "889                              Behr, Mr. Karl Howell    male  26.0      0   \n",
              "890                                Dooley, Mr. Patrick    male  32.0      0   \n",
              "\n",
              "     Parch            Ticket     Fare Cabin Embarked  \n",
              "0        0         A/5 21171   7.2500   NaN        S  \n",
              "1        0          PC 17599  71.2833   C85        C  \n",
              "2        0  STON/O2. 3101282   7.9250   NaN        S  \n",
              "3        0            113803  53.1000  C123        S  \n",
              "4        0            373450   8.0500   NaN        S  \n",
              "..     ...               ...      ...   ...      ...  \n",
              "886      0            211536  13.0000   NaN        S  \n",
              "887      0            112053  30.0000   B42        S  \n",
              "888      2        W./C. 6607  23.4500   NaN        S  \n",
              "889      0            111369  30.0000  C148        C  \n",
              "890      0            370376   7.7500   NaN        Q  \n",
              "\n",
              "[891 rows x 12 columns]"
            ],
            "text/html": [
              "\n",
              "  <div id=\"df-4e4862c3-977f-4bbc-9500-3bf3f967dc28\" class=\"colab-df-container\">\n",
              "    <div>\n",
              "<style scoped>\n",
              "    .dataframe tbody tr th:only-of-type {\n",
              "        vertical-align: middle;\n",
              "    }\n",
              "\n",
              "    .dataframe tbody tr th {\n",
              "        vertical-align: top;\n",
              "    }\n",
              "\n",
              "    .dataframe thead th {\n",
              "        text-align: right;\n",
              "    }\n",
              "</style>\n",
              "<table border=\"1\" class=\"dataframe\">\n",
              "  <thead>\n",
              "    <tr style=\"text-align: right;\">\n",
              "      <th></th>\n",
              "      <th>PassengerId</th>\n",
              "      <th>Survived</th>\n",
              "      <th>Pclass</th>\n",
              "      <th>Name</th>\n",
              "      <th>Sex</th>\n",
              "      <th>Age</th>\n",
              "      <th>SibSp</th>\n",
              "      <th>Parch</th>\n",
              "      <th>Ticket</th>\n",
              "      <th>Fare</th>\n",
              "      <th>Cabin</th>\n",
              "      <th>Embarked</th>\n",
              "    </tr>\n",
              "  </thead>\n",
              "  <tbody>\n",
              "    <tr>\n",
              "      <th>0</th>\n",
              "      <td>1</td>\n",
              "      <td>0</td>\n",
              "      <td>3</td>\n",
              "      <td>Braund, Mr. Owen Harris</td>\n",
              "      <td>male</td>\n",
              "      <td>22.0</td>\n",
              "      <td>1</td>\n",
              "      <td>0</td>\n",
              "      <td>A/5 21171</td>\n",
              "      <td>7.2500</td>\n",
              "      <td>NaN</td>\n",
              "      <td>S</td>\n",
              "    </tr>\n",
              "    <tr>\n",
              "      <th>1</th>\n",
              "      <td>2</td>\n",
              "      <td>1</td>\n",
              "      <td>1</td>\n",
              "      <td>Cumings, Mrs. John Bradley (Florence Briggs Th...</td>\n",
              "      <td>female</td>\n",
              "      <td>38.0</td>\n",
              "      <td>1</td>\n",
              "      <td>0</td>\n",
              "      <td>PC 17599</td>\n",
              "      <td>71.2833</td>\n",
              "      <td>C85</td>\n",
              "      <td>C</td>\n",
              "    </tr>\n",
              "    <tr>\n",
              "      <th>2</th>\n",
              "      <td>3</td>\n",
              "      <td>1</td>\n",
              "      <td>3</td>\n",
              "      <td>Heikkinen, Miss. Laina</td>\n",
              "      <td>female</td>\n",
              "      <td>26.0</td>\n",
              "      <td>0</td>\n",
              "      <td>0</td>\n",
              "      <td>STON/O2. 3101282</td>\n",
              "      <td>7.9250</td>\n",
              "      <td>NaN</td>\n",
              "      <td>S</td>\n",
              "    </tr>\n",
              "    <tr>\n",
              "      <th>3</th>\n",
              "      <td>4</td>\n",
              "      <td>1</td>\n",
              "      <td>1</td>\n",
              "      <td>Futrelle, Mrs. Jacques Heath (Lily May Peel)</td>\n",
              "      <td>female</td>\n",
              "      <td>35.0</td>\n",
              "      <td>1</td>\n",
              "      <td>0</td>\n",
              "      <td>113803</td>\n",
              "      <td>53.1000</td>\n",
              "      <td>C123</td>\n",
              "      <td>S</td>\n",
              "    </tr>\n",
              "    <tr>\n",
              "      <th>4</th>\n",
              "      <td>5</td>\n",
              "      <td>0</td>\n",
              "      <td>3</td>\n",
              "      <td>Allen, Mr. William Henry</td>\n",
              "      <td>male</td>\n",
              "      <td>35.0</td>\n",
              "      <td>0</td>\n",
              "      <td>0</td>\n",
              "      <td>373450</td>\n",
              "      <td>8.0500</td>\n",
              "      <td>NaN</td>\n",
              "      <td>S</td>\n",
              "    </tr>\n",
              "    <tr>\n",
              "      <th>...</th>\n",
              "      <td>...</td>\n",
              "      <td>...</td>\n",
              "      <td>...</td>\n",
              "      <td>...</td>\n",
              "      <td>...</td>\n",
              "      <td>...</td>\n",
              "      <td>...</td>\n",
              "      <td>...</td>\n",
              "      <td>...</td>\n",
              "      <td>...</td>\n",
              "      <td>...</td>\n",
              "      <td>...</td>\n",
              "    </tr>\n",
              "    <tr>\n",
              "      <th>886</th>\n",
              "      <td>887</td>\n",
              "      <td>0</td>\n",
              "      <td>2</td>\n",
              "      <td>Montvila, Rev. Juozas</td>\n",
              "      <td>male</td>\n",
              "      <td>27.0</td>\n",
              "      <td>0</td>\n",
              "      <td>0</td>\n",
              "      <td>211536</td>\n",
              "      <td>13.0000</td>\n",
              "      <td>NaN</td>\n",
              "      <td>S</td>\n",
              "    </tr>\n",
              "    <tr>\n",
              "      <th>887</th>\n",
              "      <td>888</td>\n",
              "      <td>1</td>\n",
              "      <td>1</td>\n",
              "      <td>Graham, Miss. Margaret Edith</td>\n",
              "      <td>female</td>\n",
              "      <td>19.0</td>\n",
              "      <td>0</td>\n",
              "      <td>0</td>\n",
              "      <td>112053</td>\n",
              "      <td>30.0000</td>\n",
              "      <td>B42</td>\n",
              "      <td>S</td>\n",
              "    </tr>\n",
              "    <tr>\n",
              "      <th>888</th>\n",
              "      <td>889</td>\n",
              "      <td>0</td>\n",
              "      <td>3</td>\n",
              "      <td>Johnston, Miss. Catherine Helen \"Carrie\"</td>\n",
              "      <td>female</td>\n",
              "      <td>NaN</td>\n",
              "      <td>1</td>\n",
              "      <td>2</td>\n",
              "      <td>W./C. 6607</td>\n",
              "      <td>23.4500</td>\n",
              "      <td>NaN</td>\n",
              "      <td>S</td>\n",
              "    </tr>\n",
              "    <tr>\n",
              "      <th>889</th>\n",
              "      <td>890</td>\n",
              "      <td>1</td>\n",
              "      <td>1</td>\n",
              "      <td>Behr, Mr. Karl Howell</td>\n",
              "      <td>male</td>\n",
              "      <td>26.0</td>\n",
              "      <td>0</td>\n",
              "      <td>0</td>\n",
              "      <td>111369</td>\n",
              "      <td>30.0000</td>\n",
              "      <td>C148</td>\n",
              "      <td>C</td>\n",
              "    </tr>\n",
              "    <tr>\n",
              "      <th>890</th>\n",
              "      <td>891</td>\n",
              "      <td>0</td>\n",
              "      <td>3</td>\n",
              "      <td>Dooley, Mr. Patrick</td>\n",
              "      <td>male</td>\n",
              "      <td>32.0</td>\n",
              "      <td>0</td>\n",
              "      <td>0</td>\n",
              "      <td>370376</td>\n",
              "      <td>7.7500</td>\n",
              "      <td>NaN</td>\n",
              "      <td>Q</td>\n",
              "    </tr>\n",
              "  </tbody>\n",
              "</table>\n",
              "<p>891 rows × 12 columns</p>\n",
              "</div>\n",
              "    <div class=\"colab-df-buttons\">\n",
              "\n",
              "  <div class=\"colab-df-container\">\n",
              "    <button class=\"colab-df-convert\" onclick=\"convertToInteractive('df-4e4862c3-977f-4bbc-9500-3bf3f967dc28')\"\n",
              "            title=\"Convert this dataframe to an interactive table.\"\n",
              "            style=\"display:none;\">\n",
              "\n",
              "  <svg xmlns=\"http://www.w3.org/2000/svg\" height=\"24px\" viewBox=\"0 -960 960 960\">\n",
              "    <path d=\"M120-120v-720h720v720H120Zm60-500h600v-160H180v160Zm220 220h160v-160H400v160Zm0 220h160v-160H400v160ZM180-400h160v-160H180v160Zm440 0h160v-160H620v160ZM180-180h160v-160H180v160Zm440 0h160v-160H620v160Z\"/>\n",
              "  </svg>\n",
              "    </button>\n",
              "\n",
              "  <style>\n",
              "    .colab-df-container {\n",
              "      display:flex;\n",
              "      gap: 12px;\n",
              "    }\n",
              "\n",
              "    .colab-df-convert {\n",
              "      background-color: #E8F0FE;\n",
              "      border: none;\n",
              "      border-radius: 50%;\n",
              "      cursor: pointer;\n",
              "      display: none;\n",
              "      fill: #1967D2;\n",
              "      height: 32px;\n",
              "      padding: 0 0 0 0;\n",
              "      width: 32px;\n",
              "    }\n",
              "\n",
              "    .colab-df-convert:hover {\n",
              "      background-color: #E2EBFA;\n",
              "      box-shadow: 0px 1px 2px rgba(60, 64, 67, 0.3), 0px 1px 3px 1px rgba(60, 64, 67, 0.15);\n",
              "      fill: #174EA6;\n",
              "    }\n",
              "\n",
              "    .colab-df-buttons div {\n",
              "      margin-bottom: 4px;\n",
              "    }\n",
              "\n",
              "    [theme=dark] .colab-df-convert {\n",
              "      background-color: #3B4455;\n",
              "      fill: #D2E3FC;\n",
              "    }\n",
              "\n",
              "    [theme=dark] .colab-df-convert:hover {\n",
              "      background-color: #434B5C;\n",
              "      box-shadow: 0px 1px 3px 1px rgba(0, 0, 0, 0.15);\n",
              "      filter: drop-shadow(0px 1px 2px rgba(0, 0, 0, 0.3));\n",
              "      fill: #FFFFFF;\n",
              "    }\n",
              "  </style>\n",
              "\n",
              "    <script>\n",
              "      const buttonEl =\n",
              "        document.querySelector('#df-4e4862c3-977f-4bbc-9500-3bf3f967dc28 button.colab-df-convert');\n",
              "      buttonEl.style.display =\n",
              "        google.colab.kernel.accessAllowed ? 'block' : 'none';\n",
              "\n",
              "      async function convertToInteractive(key) {\n",
              "        const element = document.querySelector('#df-4e4862c3-977f-4bbc-9500-3bf3f967dc28');\n",
              "        const dataTable =\n",
              "          await google.colab.kernel.invokeFunction('convertToInteractive',\n",
              "                                                    [key], {});\n",
              "        if (!dataTable) return;\n",
              "\n",
              "        const docLinkHtml = 'Like what you see? Visit the ' +\n",
              "          '<a target=\"_blank\" href=https://colab.research.google.com/notebooks/data_table.ipynb>data table notebook</a>'\n",
              "          + ' to learn more about interactive tables.';\n",
              "        element.innerHTML = '';\n",
              "        dataTable['output_type'] = 'display_data';\n",
              "        await google.colab.output.renderOutput(dataTable, element);\n",
              "        const docLink = document.createElement('div');\n",
              "        docLink.innerHTML = docLinkHtml;\n",
              "        element.appendChild(docLink);\n",
              "      }\n",
              "    </script>\n",
              "  </div>\n",
              "\n",
              "\n",
              "    <div id=\"df-db4771f3-db57-4b32-b168-5d6a522f691e\">\n",
              "      <button class=\"colab-df-quickchart\" onclick=\"quickchart('df-db4771f3-db57-4b32-b168-5d6a522f691e')\"\n",
              "                title=\"Suggest charts\"\n",
              "                style=\"display:none;\">\n",
              "\n",
              "<svg xmlns=\"http://www.w3.org/2000/svg\" height=\"24px\"viewBox=\"0 0 24 24\"\n",
              "     width=\"24px\">\n",
              "    <g>\n",
              "        <path d=\"M19 3H5c-1.1 0-2 .9-2 2v14c0 1.1.9 2 2 2h14c1.1 0 2-.9 2-2V5c0-1.1-.9-2-2-2zM9 17H7v-7h2v7zm4 0h-2V7h2v10zm4 0h-2v-4h2v4z\"/>\n",
              "    </g>\n",
              "</svg>\n",
              "      </button>\n",
              "\n",
              "<style>\n",
              "  .colab-df-quickchart {\n",
              "      --bg-color: #E8F0FE;\n",
              "      --fill-color: #1967D2;\n",
              "      --hover-bg-color: #E2EBFA;\n",
              "      --hover-fill-color: #174EA6;\n",
              "      --disabled-fill-color: #AAA;\n",
              "      --disabled-bg-color: #DDD;\n",
              "  }\n",
              "\n",
              "  [theme=dark] .colab-df-quickchart {\n",
              "      --bg-color: #3B4455;\n",
              "      --fill-color: #D2E3FC;\n",
              "      --hover-bg-color: #434B5C;\n",
              "      --hover-fill-color: #FFFFFF;\n",
              "      --disabled-bg-color: #3B4455;\n",
              "      --disabled-fill-color: #666;\n",
              "  }\n",
              "\n",
              "  .colab-df-quickchart {\n",
              "    background-color: var(--bg-color);\n",
              "    border: none;\n",
              "    border-radius: 50%;\n",
              "    cursor: pointer;\n",
              "    display: none;\n",
              "    fill: var(--fill-color);\n",
              "    height: 32px;\n",
              "    padding: 0;\n",
              "    width: 32px;\n",
              "  }\n",
              "\n",
              "  .colab-df-quickchart:hover {\n",
              "    background-color: var(--hover-bg-color);\n",
              "    box-shadow: 0 1px 2px rgba(60, 64, 67, 0.3), 0 1px 3px 1px rgba(60, 64, 67, 0.15);\n",
              "    fill: var(--button-hover-fill-color);\n",
              "  }\n",
              "\n",
              "  .colab-df-quickchart-complete:disabled,\n",
              "  .colab-df-quickchart-complete:disabled:hover {\n",
              "    background-color: var(--disabled-bg-color);\n",
              "    fill: var(--disabled-fill-color);\n",
              "    box-shadow: none;\n",
              "  }\n",
              "\n",
              "  .colab-df-spinner {\n",
              "    border: 2px solid var(--fill-color);\n",
              "    border-color: transparent;\n",
              "    border-bottom-color: var(--fill-color);\n",
              "    animation:\n",
              "      spin 1s steps(1) infinite;\n",
              "  }\n",
              "\n",
              "  @keyframes spin {\n",
              "    0% {\n",
              "      border-color: transparent;\n",
              "      border-bottom-color: var(--fill-color);\n",
              "      border-left-color: var(--fill-color);\n",
              "    }\n",
              "    20% {\n",
              "      border-color: transparent;\n",
              "      border-left-color: var(--fill-color);\n",
              "      border-top-color: var(--fill-color);\n",
              "    }\n",
              "    30% {\n",
              "      border-color: transparent;\n",
              "      border-left-color: var(--fill-color);\n",
              "      border-top-color: var(--fill-color);\n",
              "      border-right-color: var(--fill-color);\n",
              "    }\n",
              "    40% {\n",
              "      border-color: transparent;\n",
              "      border-right-color: var(--fill-color);\n",
              "      border-top-color: var(--fill-color);\n",
              "    }\n",
              "    60% {\n",
              "      border-color: transparent;\n",
              "      border-right-color: var(--fill-color);\n",
              "    }\n",
              "    80% {\n",
              "      border-color: transparent;\n",
              "      border-right-color: var(--fill-color);\n",
              "      border-bottom-color: var(--fill-color);\n",
              "    }\n",
              "    90% {\n",
              "      border-color: transparent;\n",
              "      border-bottom-color: var(--fill-color);\n",
              "    }\n",
              "  }\n",
              "</style>\n",
              "\n",
              "      <script>\n",
              "        async function quickchart(key) {\n",
              "          const quickchartButtonEl =\n",
              "            document.querySelector('#' + key + ' button');\n",
              "          quickchartButtonEl.disabled = true;  // To prevent multiple clicks.\n",
              "          quickchartButtonEl.classList.add('colab-df-spinner');\n",
              "          try {\n",
              "            const charts = await google.colab.kernel.invokeFunction(\n",
              "                'suggestCharts', [key], {});\n",
              "          } catch (error) {\n",
              "            console.error('Error during call to suggestCharts:', error);\n",
              "          }\n",
              "          quickchartButtonEl.classList.remove('colab-df-spinner');\n",
              "          quickchartButtonEl.classList.add('colab-df-quickchart-complete');\n",
              "        }\n",
              "        (() => {\n",
              "          let quickchartButtonEl =\n",
              "            document.querySelector('#df-db4771f3-db57-4b32-b168-5d6a522f691e button');\n",
              "          quickchartButtonEl.style.display =\n",
              "            google.colab.kernel.accessAllowed ? 'block' : 'none';\n",
              "        })();\n",
              "      </script>\n",
              "    </div>\n",
              "\n",
              "  <div id=\"id_7845d9e0-07f0-4f68-866b-79dcd134fc51\">\n",
              "    <style>\n",
              "      .colab-df-generate {\n",
              "        background-color: #E8F0FE;\n",
              "        border: none;\n",
              "        border-radius: 50%;\n",
              "        cursor: pointer;\n",
              "        display: none;\n",
              "        fill: #1967D2;\n",
              "        height: 32px;\n",
              "        padding: 0 0 0 0;\n",
              "        width: 32px;\n",
              "      }\n",
              "\n",
              "      .colab-df-generate:hover {\n",
              "        background-color: #E2EBFA;\n",
              "        box-shadow: 0px 1px 2px rgba(60, 64, 67, 0.3), 0px 1px 3px 1px rgba(60, 64, 67, 0.15);\n",
              "        fill: #174EA6;\n",
              "      }\n",
              "\n",
              "      [theme=dark] .colab-df-generate {\n",
              "        background-color: #3B4455;\n",
              "        fill: #D2E3FC;\n",
              "      }\n",
              "\n",
              "      [theme=dark] .colab-df-generate:hover {\n",
              "        background-color: #434B5C;\n",
              "        box-shadow: 0px 1px 3px 1px rgba(0, 0, 0, 0.15);\n",
              "        filter: drop-shadow(0px 1px 2px rgba(0, 0, 0, 0.3));\n",
              "        fill: #FFFFFF;\n",
              "      }\n",
              "    </style>\n",
              "    <button class=\"colab-df-generate\" onclick=\"generateWithVariable('train_set')\"\n",
              "            title=\"Generate code using this dataframe.\"\n",
              "            style=\"display:none;\">\n",
              "\n",
              "  <svg xmlns=\"http://www.w3.org/2000/svg\" height=\"24px\"viewBox=\"0 0 24 24\"\n",
              "       width=\"24px\">\n",
              "    <path d=\"M7,19H8.4L18.45,9,17,7.55,7,17.6ZM5,21V16.75L18.45,3.32a2,2,0,0,1,2.83,0l1.4,1.43a1.91,1.91,0,0,1,.58,1.4,1.91,1.91,0,0,1-.58,1.4L9.25,21ZM18.45,9,17,7.55Zm-12,3A5.31,5.31,0,0,0,4.9,8.1,5.31,5.31,0,0,0,1,6.5,5.31,5.31,0,0,0,4.9,4.9,5.31,5.31,0,0,0,6.5,1,5.31,5.31,0,0,0,8.1,4.9,5.31,5.31,0,0,0,12,6.5,5.46,5.46,0,0,0,6.5,12Z\"/>\n",
              "  </svg>\n",
              "    </button>\n",
              "    <script>\n",
              "      (() => {\n",
              "      const buttonEl =\n",
              "        document.querySelector('#id_7845d9e0-07f0-4f68-866b-79dcd134fc51 button.colab-df-generate');\n",
              "      buttonEl.style.display =\n",
              "        google.colab.kernel.accessAllowed ? 'block' : 'none';\n",
              "\n",
              "      buttonEl.onclick = () => {\n",
              "        google.colab.notebook.generateWithVariable('train_set');\n",
              "      }\n",
              "      })();\n",
              "    </script>\n",
              "  </div>\n",
              "\n",
              "    </div>\n",
              "  </div>\n"
            ],
            "application/vnd.google.colaboratory.intrinsic+json": {
              "type": "dataframe",
              "variable_name": "train_set",
              "summary": "{\n  \"name\": \"train_set\",\n  \"rows\": 891,\n  \"fields\": [\n    {\n      \"column\": \"PassengerId\",\n      \"properties\": {\n        \"dtype\": \"number\",\n        \"std\": 257,\n        \"min\": 1,\n        \"max\": 891,\n        \"num_unique_values\": 891,\n        \"samples\": [\n          710,\n          440,\n          841\n        ],\n        \"semantic_type\": \"\",\n        \"description\": \"\"\n      }\n    },\n    {\n      \"column\": \"Survived\",\n      \"properties\": {\n        \"dtype\": \"number\",\n        \"std\": 0,\n        \"min\": 0,\n        \"max\": 1,\n        \"num_unique_values\": 2,\n        \"samples\": [\n          1,\n          0\n        ],\n        \"semantic_type\": \"\",\n        \"description\": \"\"\n      }\n    },\n    {\n      \"column\": \"Pclass\",\n      \"properties\": {\n        \"dtype\": \"number\",\n        \"std\": 0,\n        \"min\": 1,\n        \"max\": 3,\n        \"num_unique_values\": 3,\n        \"samples\": [\n          3,\n          1\n        ],\n        \"semantic_type\": \"\",\n        \"description\": \"\"\n      }\n    },\n    {\n      \"column\": \"Name\",\n      \"properties\": {\n        \"dtype\": \"string\",\n        \"num_unique_values\": 891,\n        \"samples\": [\n          \"Moubarek, Master. Halim Gonios (\\\"William George\\\")\",\n          \"Kvillner, Mr. Johan Henrik Johannesson\"\n        ],\n        \"semantic_type\": \"\",\n        \"description\": \"\"\n      }\n    },\n    {\n      \"column\": \"Sex\",\n      \"properties\": {\n        \"dtype\": \"category\",\n        \"num_unique_values\": 2,\n        \"samples\": [\n          \"female\",\n          \"male\"\n        ],\n        \"semantic_type\": \"\",\n        \"description\": \"\"\n      }\n    },\n    {\n      \"column\": \"Age\",\n      \"properties\": {\n        \"dtype\": \"number\",\n        \"std\": 14.526497332334044,\n        \"min\": 0.42,\n        \"max\": 80.0,\n        \"num_unique_values\": 88,\n        \"samples\": [\n          0.75,\n          22.0\n        ],\n        \"semantic_type\": \"\",\n        \"description\": \"\"\n      }\n    },\n    {\n      \"column\": \"SibSp\",\n      \"properties\": {\n        \"dtype\": \"number\",\n        \"std\": 1,\n        \"min\": 0,\n        \"max\": 8,\n        \"num_unique_values\": 7,\n        \"samples\": [\n          1,\n          0\n        ],\n        \"semantic_type\": \"\",\n        \"description\": \"\"\n      }\n    },\n    {\n      \"column\": \"Parch\",\n      \"properties\": {\n        \"dtype\": \"number\",\n        \"std\": 0,\n        \"min\": 0,\n        \"max\": 6,\n        \"num_unique_values\": 7,\n        \"samples\": [\n          0,\n          1\n        ],\n        \"semantic_type\": \"\",\n        \"description\": \"\"\n      }\n    },\n    {\n      \"column\": \"Ticket\",\n      \"properties\": {\n        \"dtype\": \"string\",\n        \"num_unique_values\": 681,\n        \"samples\": [\n          \"11774\",\n          \"248740\"\n        ],\n        \"semantic_type\": \"\",\n        \"description\": \"\"\n      }\n    },\n    {\n      \"column\": \"Fare\",\n      \"properties\": {\n        \"dtype\": \"number\",\n        \"std\": 49.693428597180905,\n        \"min\": 0.0,\n        \"max\": 512.3292,\n        \"num_unique_values\": 248,\n        \"samples\": [\n          11.2417,\n          51.8625\n        ],\n        \"semantic_type\": \"\",\n        \"description\": \"\"\n      }\n    },\n    {\n      \"column\": \"Cabin\",\n      \"properties\": {\n        \"dtype\": \"category\",\n        \"num_unique_values\": 147,\n        \"samples\": [\n          \"D45\",\n          \"B49\"\n        ],\n        \"semantic_type\": \"\",\n        \"description\": \"\"\n      }\n    },\n    {\n      \"column\": \"Embarked\",\n      \"properties\": {\n        \"dtype\": \"category\",\n        \"num_unique_values\": 3,\n        \"samples\": [\n          \"S\",\n          \"C\"\n        ],\n        \"semantic_type\": \"\",\n        \"description\": \"\"\n      }\n    }\n  ]\n}"
            }
          },
          "metadata": {}
        },
        {
          "output_type": "stream",
          "name": "stdout",
          "text": [
            "Test Set:\n"
          ]
        },
        {
          "output_type": "display_data",
          "data": {
            "text/plain": [
              "     PassengerId  Pclass                                          Name  \\\n",
              "0            892       3                              Kelly, Mr. James   \n",
              "1            893       3              Wilkes, Mrs. James (Ellen Needs)   \n",
              "2            894       2                     Myles, Mr. Thomas Francis   \n",
              "3            895       3                              Wirz, Mr. Albert   \n",
              "4            896       3  Hirvonen, Mrs. Alexander (Helga E Lindqvist)   \n",
              "..           ...     ...                                           ...   \n",
              "413         1305       3                            Spector, Mr. Woolf   \n",
              "414         1306       1                  Oliva y Ocana, Dona. Fermina   \n",
              "415         1307       3                  Saether, Mr. Simon Sivertsen   \n",
              "416         1308       3                           Ware, Mr. Frederick   \n",
              "417         1309       3                      Peter, Master. Michael J   \n",
              "\n",
              "        Sex   Age  SibSp  Parch              Ticket      Fare Cabin Embarked  \n",
              "0      male  34.5      0      0              330911    7.8292   NaN        Q  \n",
              "1    female  47.0      1      0              363272    7.0000   NaN        S  \n",
              "2      male  62.0      0      0              240276    9.6875   NaN        Q  \n",
              "3      male  27.0      0      0              315154    8.6625   NaN        S  \n",
              "4    female  22.0      1      1             3101298   12.2875   NaN        S  \n",
              "..      ...   ...    ...    ...                 ...       ...   ...      ...  \n",
              "413    male   NaN      0      0           A.5. 3236    8.0500   NaN        S  \n",
              "414  female  39.0      0      0            PC 17758  108.9000  C105        C  \n",
              "415    male  38.5      0      0  SOTON/O.Q. 3101262    7.2500   NaN        S  \n",
              "416    male   NaN      0      0              359309    8.0500   NaN        S  \n",
              "417    male   NaN      1      1                2668   22.3583   NaN        C  \n",
              "\n",
              "[418 rows x 11 columns]"
            ],
            "text/html": [
              "\n",
              "  <div id=\"df-86181324-9e90-478e-8fa2-d3cf15a1514c\" class=\"colab-df-container\">\n",
              "    <div>\n",
              "<style scoped>\n",
              "    .dataframe tbody tr th:only-of-type {\n",
              "        vertical-align: middle;\n",
              "    }\n",
              "\n",
              "    .dataframe tbody tr th {\n",
              "        vertical-align: top;\n",
              "    }\n",
              "\n",
              "    .dataframe thead th {\n",
              "        text-align: right;\n",
              "    }\n",
              "</style>\n",
              "<table border=\"1\" class=\"dataframe\">\n",
              "  <thead>\n",
              "    <tr style=\"text-align: right;\">\n",
              "      <th></th>\n",
              "      <th>PassengerId</th>\n",
              "      <th>Pclass</th>\n",
              "      <th>Name</th>\n",
              "      <th>Sex</th>\n",
              "      <th>Age</th>\n",
              "      <th>SibSp</th>\n",
              "      <th>Parch</th>\n",
              "      <th>Ticket</th>\n",
              "      <th>Fare</th>\n",
              "      <th>Cabin</th>\n",
              "      <th>Embarked</th>\n",
              "    </tr>\n",
              "  </thead>\n",
              "  <tbody>\n",
              "    <tr>\n",
              "      <th>0</th>\n",
              "      <td>892</td>\n",
              "      <td>3</td>\n",
              "      <td>Kelly, Mr. James</td>\n",
              "      <td>male</td>\n",
              "      <td>34.5</td>\n",
              "      <td>0</td>\n",
              "      <td>0</td>\n",
              "      <td>330911</td>\n",
              "      <td>7.8292</td>\n",
              "      <td>NaN</td>\n",
              "      <td>Q</td>\n",
              "    </tr>\n",
              "    <tr>\n",
              "      <th>1</th>\n",
              "      <td>893</td>\n",
              "      <td>3</td>\n",
              "      <td>Wilkes, Mrs. James (Ellen Needs)</td>\n",
              "      <td>female</td>\n",
              "      <td>47.0</td>\n",
              "      <td>1</td>\n",
              "      <td>0</td>\n",
              "      <td>363272</td>\n",
              "      <td>7.0000</td>\n",
              "      <td>NaN</td>\n",
              "      <td>S</td>\n",
              "    </tr>\n",
              "    <tr>\n",
              "      <th>2</th>\n",
              "      <td>894</td>\n",
              "      <td>2</td>\n",
              "      <td>Myles, Mr. Thomas Francis</td>\n",
              "      <td>male</td>\n",
              "      <td>62.0</td>\n",
              "      <td>0</td>\n",
              "      <td>0</td>\n",
              "      <td>240276</td>\n",
              "      <td>9.6875</td>\n",
              "      <td>NaN</td>\n",
              "      <td>Q</td>\n",
              "    </tr>\n",
              "    <tr>\n",
              "      <th>3</th>\n",
              "      <td>895</td>\n",
              "      <td>3</td>\n",
              "      <td>Wirz, Mr. Albert</td>\n",
              "      <td>male</td>\n",
              "      <td>27.0</td>\n",
              "      <td>0</td>\n",
              "      <td>0</td>\n",
              "      <td>315154</td>\n",
              "      <td>8.6625</td>\n",
              "      <td>NaN</td>\n",
              "      <td>S</td>\n",
              "    </tr>\n",
              "    <tr>\n",
              "      <th>4</th>\n",
              "      <td>896</td>\n",
              "      <td>3</td>\n",
              "      <td>Hirvonen, Mrs. Alexander (Helga E Lindqvist)</td>\n",
              "      <td>female</td>\n",
              "      <td>22.0</td>\n",
              "      <td>1</td>\n",
              "      <td>1</td>\n",
              "      <td>3101298</td>\n",
              "      <td>12.2875</td>\n",
              "      <td>NaN</td>\n",
              "      <td>S</td>\n",
              "    </tr>\n",
              "    <tr>\n",
              "      <th>...</th>\n",
              "      <td>...</td>\n",
              "      <td>...</td>\n",
              "      <td>...</td>\n",
              "      <td>...</td>\n",
              "      <td>...</td>\n",
              "      <td>...</td>\n",
              "      <td>...</td>\n",
              "      <td>...</td>\n",
              "      <td>...</td>\n",
              "      <td>...</td>\n",
              "      <td>...</td>\n",
              "    </tr>\n",
              "    <tr>\n",
              "      <th>413</th>\n",
              "      <td>1305</td>\n",
              "      <td>3</td>\n",
              "      <td>Spector, Mr. Woolf</td>\n",
              "      <td>male</td>\n",
              "      <td>NaN</td>\n",
              "      <td>0</td>\n",
              "      <td>0</td>\n",
              "      <td>A.5. 3236</td>\n",
              "      <td>8.0500</td>\n",
              "      <td>NaN</td>\n",
              "      <td>S</td>\n",
              "    </tr>\n",
              "    <tr>\n",
              "      <th>414</th>\n",
              "      <td>1306</td>\n",
              "      <td>1</td>\n",
              "      <td>Oliva y Ocana, Dona. Fermina</td>\n",
              "      <td>female</td>\n",
              "      <td>39.0</td>\n",
              "      <td>0</td>\n",
              "      <td>0</td>\n",
              "      <td>PC 17758</td>\n",
              "      <td>108.9000</td>\n",
              "      <td>C105</td>\n",
              "      <td>C</td>\n",
              "    </tr>\n",
              "    <tr>\n",
              "      <th>415</th>\n",
              "      <td>1307</td>\n",
              "      <td>3</td>\n",
              "      <td>Saether, Mr. Simon Sivertsen</td>\n",
              "      <td>male</td>\n",
              "      <td>38.5</td>\n",
              "      <td>0</td>\n",
              "      <td>0</td>\n",
              "      <td>SOTON/O.Q. 3101262</td>\n",
              "      <td>7.2500</td>\n",
              "      <td>NaN</td>\n",
              "      <td>S</td>\n",
              "    </tr>\n",
              "    <tr>\n",
              "      <th>416</th>\n",
              "      <td>1308</td>\n",
              "      <td>3</td>\n",
              "      <td>Ware, Mr. Frederick</td>\n",
              "      <td>male</td>\n",
              "      <td>NaN</td>\n",
              "      <td>0</td>\n",
              "      <td>0</td>\n",
              "      <td>359309</td>\n",
              "      <td>8.0500</td>\n",
              "      <td>NaN</td>\n",
              "      <td>S</td>\n",
              "    </tr>\n",
              "    <tr>\n",
              "      <th>417</th>\n",
              "      <td>1309</td>\n",
              "      <td>3</td>\n",
              "      <td>Peter, Master. Michael J</td>\n",
              "      <td>male</td>\n",
              "      <td>NaN</td>\n",
              "      <td>1</td>\n",
              "      <td>1</td>\n",
              "      <td>2668</td>\n",
              "      <td>22.3583</td>\n",
              "      <td>NaN</td>\n",
              "      <td>C</td>\n",
              "    </tr>\n",
              "  </tbody>\n",
              "</table>\n",
              "<p>418 rows × 11 columns</p>\n",
              "</div>\n",
              "    <div class=\"colab-df-buttons\">\n",
              "\n",
              "  <div class=\"colab-df-container\">\n",
              "    <button class=\"colab-df-convert\" onclick=\"convertToInteractive('df-86181324-9e90-478e-8fa2-d3cf15a1514c')\"\n",
              "            title=\"Convert this dataframe to an interactive table.\"\n",
              "            style=\"display:none;\">\n",
              "\n",
              "  <svg xmlns=\"http://www.w3.org/2000/svg\" height=\"24px\" viewBox=\"0 -960 960 960\">\n",
              "    <path d=\"M120-120v-720h720v720H120Zm60-500h600v-160H180v160Zm220 220h160v-160H400v160Zm0 220h160v-160H400v160ZM180-400h160v-160H180v160Zm440 0h160v-160H620v160ZM180-180h160v-160H180v160Zm440 0h160v-160H620v160Z\"/>\n",
              "  </svg>\n",
              "    </button>\n",
              "\n",
              "  <style>\n",
              "    .colab-df-container {\n",
              "      display:flex;\n",
              "      gap: 12px;\n",
              "    }\n",
              "\n",
              "    .colab-df-convert {\n",
              "      background-color: #E8F0FE;\n",
              "      border: none;\n",
              "      border-radius: 50%;\n",
              "      cursor: pointer;\n",
              "      display: none;\n",
              "      fill: #1967D2;\n",
              "      height: 32px;\n",
              "      padding: 0 0 0 0;\n",
              "      width: 32px;\n",
              "    }\n",
              "\n",
              "    .colab-df-convert:hover {\n",
              "      background-color: #E2EBFA;\n",
              "      box-shadow: 0px 1px 2px rgba(60, 64, 67, 0.3), 0px 1px 3px 1px rgba(60, 64, 67, 0.15);\n",
              "      fill: #174EA6;\n",
              "    }\n",
              "\n",
              "    .colab-df-buttons div {\n",
              "      margin-bottom: 4px;\n",
              "    }\n",
              "\n",
              "    [theme=dark] .colab-df-convert {\n",
              "      background-color: #3B4455;\n",
              "      fill: #D2E3FC;\n",
              "    }\n",
              "\n",
              "    [theme=dark] .colab-df-convert:hover {\n",
              "      background-color: #434B5C;\n",
              "      box-shadow: 0px 1px 3px 1px rgba(0, 0, 0, 0.15);\n",
              "      filter: drop-shadow(0px 1px 2px rgba(0, 0, 0, 0.3));\n",
              "      fill: #FFFFFF;\n",
              "    }\n",
              "  </style>\n",
              "\n",
              "    <script>\n",
              "      const buttonEl =\n",
              "        document.querySelector('#df-86181324-9e90-478e-8fa2-d3cf15a1514c button.colab-df-convert');\n",
              "      buttonEl.style.display =\n",
              "        google.colab.kernel.accessAllowed ? 'block' : 'none';\n",
              "\n",
              "      async function convertToInteractive(key) {\n",
              "        const element = document.querySelector('#df-86181324-9e90-478e-8fa2-d3cf15a1514c');\n",
              "        const dataTable =\n",
              "          await google.colab.kernel.invokeFunction('convertToInteractive',\n",
              "                                                    [key], {});\n",
              "        if (!dataTable) return;\n",
              "\n",
              "        const docLinkHtml = 'Like what you see? Visit the ' +\n",
              "          '<a target=\"_blank\" href=https://colab.research.google.com/notebooks/data_table.ipynb>data table notebook</a>'\n",
              "          + ' to learn more about interactive tables.';\n",
              "        element.innerHTML = '';\n",
              "        dataTable['output_type'] = 'display_data';\n",
              "        await google.colab.output.renderOutput(dataTable, element);\n",
              "        const docLink = document.createElement('div');\n",
              "        docLink.innerHTML = docLinkHtml;\n",
              "        element.appendChild(docLink);\n",
              "      }\n",
              "    </script>\n",
              "  </div>\n",
              "\n",
              "\n",
              "    <div id=\"df-84f6e707-631d-4c77-b9fb-2bf57f7edd90\">\n",
              "      <button class=\"colab-df-quickchart\" onclick=\"quickchart('df-84f6e707-631d-4c77-b9fb-2bf57f7edd90')\"\n",
              "                title=\"Suggest charts\"\n",
              "                style=\"display:none;\">\n",
              "\n",
              "<svg xmlns=\"http://www.w3.org/2000/svg\" height=\"24px\"viewBox=\"0 0 24 24\"\n",
              "     width=\"24px\">\n",
              "    <g>\n",
              "        <path d=\"M19 3H5c-1.1 0-2 .9-2 2v14c0 1.1.9 2 2 2h14c1.1 0 2-.9 2-2V5c0-1.1-.9-2-2-2zM9 17H7v-7h2v7zm4 0h-2V7h2v10zm4 0h-2v-4h2v4z\"/>\n",
              "    </g>\n",
              "</svg>\n",
              "      </button>\n",
              "\n",
              "<style>\n",
              "  .colab-df-quickchart {\n",
              "      --bg-color: #E8F0FE;\n",
              "      --fill-color: #1967D2;\n",
              "      --hover-bg-color: #E2EBFA;\n",
              "      --hover-fill-color: #174EA6;\n",
              "      --disabled-fill-color: #AAA;\n",
              "      --disabled-bg-color: #DDD;\n",
              "  }\n",
              "\n",
              "  [theme=dark] .colab-df-quickchart {\n",
              "      --bg-color: #3B4455;\n",
              "      --fill-color: #D2E3FC;\n",
              "      --hover-bg-color: #434B5C;\n",
              "      --hover-fill-color: #FFFFFF;\n",
              "      --disabled-bg-color: #3B4455;\n",
              "      --disabled-fill-color: #666;\n",
              "  }\n",
              "\n",
              "  .colab-df-quickchart {\n",
              "    background-color: var(--bg-color);\n",
              "    border: none;\n",
              "    border-radius: 50%;\n",
              "    cursor: pointer;\n",
              "    display: none;\n",
              "    fill: var(--fill-color);\n",
              "    height: 32px;\n",
              "    padding: 0;\n",
              "    width: 32px;\n",
              "  }\n",
              "\n",
              "  .colab-df-quickchart:hover {\n",
              "    background-color: var(--hover-bg-color);\n",
              "    box-shadow: 0 1px 2px rgba(60, 64, 67, 0.3), 0 1px 3px 1px rgba(60, 64, 67, 0.15);\n",
              "    fill: var(--button-hover-fill-color);\n",
              "  }\n",
              "\n",
              "  .colab-df-quickchart-complete:disabled,\n",
              "  .colab-df-quickchart-complete:disabled:hover {\n",
              "    background-color: var(--disabled-bg-color);\n",
              "    fill: var(--disabled-fill-color);\n",
              "    box-shadow: none;\n",
              "  }\n",
              "\n",
              "  .colab-df-spinner {\n",
              "    border: 2px solid var(--fill-color);\n",
              "    border-color: transparent;\n",
              "    border-bottom-color: var(--fill-color);\n",
              "    animation:\n",
              "      spin 1s steps(1) infinite;\n",
              "  }\n",
              "\n",
              "  @keyframes spin {\n",
              "    0% {\n",
              "      border-color: transparent;\n",
              "      border-bottom-color: var(--fill-color);\n",
              "      border-left-color: var(--fill-color);\n",
              "    }\n",
              "    20% {\n",
              "      border-color: transparent;\n",
              "      border-left-color: var(--fill-color);\n",
              "      border-top-color: var(--fill-color);\n",
              "    }\n",
              "    30% {\n",
              "      border-color: transparent;\n",
              "      border-left-color: var(--fill-color);\n",
              "      border-top-color: var(--fill-color);\n",
              "      border-right-color: var(--fill-color);\n",
              "    }\n",
              "    40% {\n",
              "      border-color: transparent;\n",
              "      border-right-color: var(--fill-color);\n",
              "      border-top-color: var(--fill-color);\n",
              "    }\n",
              "    60% {\n",
              "      border-color: transparent;\n",
              "      border-right-color: var(--fill-color);\n",
              "    }\n",
              "    80% {\n",
              "      border-color: transparent;\n",
              "      border-right-color: var(--fill-color);\n",
              "      border-bottom-color: var(--fill-color);\n",
              "    }\n",
              "    90% {\n",
              "      border-color: transparent;\n",
              "      border-bottom-color: var(--fill-color);\n",
              "    }\n",
              "  }\n",
              "</style>\n",
              "\n",
              "      <script>\n",
              "        async function quickchart(key) {\n",
              "          const quickchartButtonEl =\n",
              "            document.querySelector('#' + key + ' button');\n",
              "          quickchartButtonEl.disabled = true;  // To prevent multiple clicks.\n",
              "          quickchartButtonEl.classList.add('colab-df-spinner');\n",
              "          try {\n",
              "            const charts = await google.colab.kernel.invokeFunction(\n",
              "                'suggestCharts', [key], {});\n",
              "          } catch (error) {\n",
              "            console.error('Error during call to suggestCharts:', error);\n",
              "          }\n",
              "          quickchartButtonEl.classList.remove('colab-df-spinner');\n",
              "          quickchartButtonEl.classList.add('colab-df-quickchart-complete');\n",
              "        }\n",
              "        (() => {\n",
              "          let quickchartButtonEl =\n",
              "            document.querySelector('#df-84f6e707-631d-4c77-b9fb-2bf57f7edd90 button');\n",
              "          quickchartButtonEl.style.display =\n",
              "            google.colab.kernel.accessAllowed ? 'block' : 'none';\n",
              "        })();\n",
              "      </script>\n",
              "    </div>\n",
              "\n",
              "  <div id=\"id_e1a7f861-67e1-4ed6-a938-52521488e3e1\">\n",
              "    <style>\n",
              "      .colab-df-generate {\n",
              "        background-color: #E8F0FE;\n",
              "        border: none;\n",
              "        border-radius: 50%;\n",
              "        cursor: pointer;\n",
              "        display: none;\n",
              "        fill: #1967D2;\n",
              "        height: 32px;\n",
              "        padding: 0 0 0 0;\n",
              "        width: 32px;\n",
              "      }\n",
              "\n",
              "      .colab-df-generate:hover {\n",
              "        background-color: #E2EBFA;\n",
              "        box-shadow: 0px 1px 2px rgba(60, 64, 67, 0.3), 0px 1px 3px 1px rgba(60, 64, 67, 0.15);\n",
              "        fill: #174EA6;\n",
              "      }\n",
              "\n",
              "      [theme=dark] .colab-df-generate {\n",
              "        background-color: #3B4455;\n",
              "        fill: #D2E3FC;\n",
              "      }\n",
              "\n",
              "      [theme=dark] .colab-df-generate:hover {\n",
              "        background-color: #434B5C;\n",
              "        box-shadow: 0px 1px 3px 1px rgba(0, 0, 0, 0.15);\n",
              "        filter: drop-shadow(0px 1px 2px rgba(0, 0, 0, 0.3));\n",
              "        fill: #FFFFFF;\n",
              "      }\n",
              "    </style>\n",
              "    <button class=\"colab-df-generate\" onclick=\"generateWithVariable('test_set')\"\n",
              "            title=\"Generate code using this dataframe.\"\n",
              "            style=\"display:none;\">\n",
              "\n",
              "  <svg xmlns=\"http://www.w3.org/2000/svg\" height=\"24px\"viewBox=\"0 0 24 24\"\n",
              "       width=\"24px\">\n",
              "    <path d=\"M7,19H8.4L18.45,9,17,7.55,7,17.6ZM5,21V16.75L18.45,3.32a2,2,0,0,1,2.83,0l1.4,1.43a1.91,1.91,0,0,1,.58,1.4,1.91,1.91,0,0,1-.58,1.4L9.25,21ZM18.45,9,17,7.55Zm-12,3A5.31,5.31,0,0,0,4.9,8.1,5.31,5.31,0,0,0,1,6.5,5.31,5.31,0,0,0,4.9,4.9,5.31,5.31,0,0,0,6.5,1,5.31,5.31,0,0,0,8.1,4.9,5.31,5.31,0,0,0,12,6.5,5.46,5.46,0,0,0,6.5,12Z\"/>\n",
              "  </svg>\n",
              "    </button>\n",
              "    <script>\n",
              "      (() => {\n",
              "      const buttonEl =\n",
              "        document.querySelector('#id_e1a7f861-67e1-4ed6-a938-52521488e3e1 button.colab-df-generate');\n",
              "      buttonEl.style.display =\n",
              "        google.colab.kernel.accessAllowed ? 'block' : 'none';\n",
              "\n",
              "      buttonEl.onclick = () => {\n",
              "        google.colab.notebook.generateWithVariable('test_set');\n",
              "      }\n",
              "      })();\n",
              "    </script>\n",
              "  </div>\n",
              "\n",
              "    </div>\n",
              "  </div>\n"
            ],
            "application/vnd.google.colaboratory.intrinsic+json": {
              "type": "dataframe",
              "variable_name": "test_set",
              "summary": "{\n  \"name\": \"test_set\",\n  \"rows\": 418,\n  \"fields\": [\n    {\n      \"column\": \"PassengerId\",\n      \"properties\": {\n        \"dtype\": \"number\",\n        \"std\": 120,\n        \"min\": 892,\n        \"max\": 1309,\n        \"num_unique_values\": 418,\n        \"samples\": [\n          1213,\n          1216,\n          1280\n        ],\n        \"semantic_type\": \"\",\n        \"description\": \"\"\n      }\n    },\n    {\n      \"column\": \"Pclass\",\n      \"properties\": {\n        \"dtype\": \"number\",\n        \"std\": 0,\n        \"min\": 1,\n        \"max\": 3,\n        \"num_unique_values\": 3,\n        \"samples\": [\n          3,\n          2,\n          1\n        ],\n        \"semantic_type\": \"\",\n        \"description\": \"\"\n      }\n    },\n    {\n      \"column\": \"Name\",\n      \"properties\": {\n        \"dtype\": \"string\",\n        \"num_unique_values\": 418,\n        \"samples\": [\n          \"Krekorian, Mr. Neshan\",\n          \"Kreuchen, Miss. Emilie\",\n          \"Canavan, Mr. Patrick\"\n        ],\n        \"semantic_type\": \"\",\n        \"description\": \"\"\n      }\n    },\n    {\n      \"column\": \"Sex\",\n      \"properties\": {\n        \"dtype\": \"category\",\n        \"num_unique_values\": 2,\n        \"samples\": [\n          \"female\",\n          \"male\"\n        ],\n        \"semantic_type\": \"\",\n        \"description\": \"\"\n      }\n    },\n    {\n      \"column\": \"Age\",\n      \"properties\": {\n        \"dtype\": \"number\",\n        \"std\": 14.18120923562442,\n        \"min\": 0.17,\n        \"max\": 76.0,\n        \"num_unique_values\": 79,\n        \"samples\": [\n          10.0,\n          34.5\n        ],\n        \"semantic_type\": \"\",\n        \"description\": \"\"\n      }\n    },\n    {\n      \"column\": \"SibSp\",\n      \"properties\": {\n        \"dtype\": \"number\",\n        \"std\": 0,\n        \"min\": 0,\n        \"max\": 8,\n        \"num_unique_values\": 7,\n        \"samples\": [\n          0,\n          1\n        ],\n        \"semantic_type\": \"\",\n        \"description\": \"\"\n      }\n    },\n    {\n      \"column\": \"Parch\",\n      \"properties\": {\n        \"dtype\": \"number\",\n        \"std\": 0,\n        \"min\": 0,\n        \"max\": 9,\n        \"num_unique_values\": 8,\n        \"samples\": [\n          1,\n          6\n        ],\n        \"semantic_type\": \"\",\n        \"description\": \"\"\n      }\n    },\n    {\n      \"column\": \"Ticket\",\n      \"properties\": {\n        \"dtype\": \"string\",\n        \"num_unique_values\": 363,\n        \"samples\": [\n          \"2673\",\n          \"W./C. 6607\"\n        ],\n        \"semantic_type\": \"\",\n        \"description\": \"\"\n      }\n    },\n    {\n      \"column\": \"Fare\",\n      \"properties\": {\n        \"dtype\": \"number\",\n        \"std\": 55.90757617997383,\n        \"min\": 0.0,\n        \"max\": 512.3292,\n        \"num_unique_values\": 169,\n        \"samples\": [\n          41.5792,\n          57.75\n        ],\n        \"semantic_type\": \"\",\n        \"description\": \"\"\n      }\n    },\n    {\n      \"column\": \"Cabin\",\n      \"properties\": {\n        \"dtype\": \"category\",\n        \"num_unique_values\": 76,\n        \"samples\": [\n          \"A21\",\n          \"E45\"\n        ],\n        \"semantic_type\": \"\",\n        \"description\": \"\"\n      }\n    },\n    {\n      \"column\": \"Embarked\",\n      \"properties\": {\n        \"dtype\": \"category\",\n        \"num_unique_values\": 3,\n        \"samples\": [\n          \"Q\",\n          \"S\"\n        ],\n        \"semantic_type\": \"\",\n        \"description\": \"\"\n      }\n    }\n  ]\n}"
            }
          },
          "metadata": {}
        }
      ]
    },
    {
      "cell_type": "code",
      "source": [
        "train_set.shape"
      ],
      "metadata": {
        "colab": {
          "base_uri": "https://localhost:8080/"
        },
        "id": "NxUO059YqqK3",
        "outputId": "ac07901f-5862-413e-b5dd-9e7179447e94"
      },
      "execution_count": null,
      "outputs": [
        {
          "output_type": "execute_result",
          "data": {
            "text/plain": [
              "(891, 12)"
            ]
          },
          "metadata": {},
          "execution_count": 4
        }
      ]
    },
    {
      "cell_type": "code",
      "source": [
        "train_set.columns"
      ],
      "metadata": {
        "colab": {
          "base_uri": "https://localhost:8080/"
        },
        "id": "42SxQhUenpdn",
        "outputId": "aa67b2e3-5c62-4971-9b50-7b678f057f99"
      },
      "execution_count": null,
      "outputs": [
        {
          "output_type": "execute_result",
          "data": {
            "text/plain": [
              "Index(['PassengerId', 'Survived', 'Pclass', 'Name', 'Sex', 'Age', 'SibSp',\n",
              "       'Parch', 'Ticket', 'Fare', 'Cabin', 'Embarked'],\n",
              "      dtype='object')"
            ]
          },
          "metadata": {},
          "execution_count": 5
        }
      ]
    },
    {
      "cell_type": "code",
      "source": [
        "train_set.info()"
      ],
      "metadata": {
        "colab": {
          "base_uri": "https://localhost:8080/"
        },
        "id": "vUP_9tWMn3kl",
        "outputId": "f7f38db8-a5f3-4d27-c80e-df284c812066"
      },
      "execution_count": null,
      "outputs": [
        {
          "output_type": "stream",
          "name": "stdout",
          "text": [
            "<class 'pandas.core.frame.DataFrame'>\n",
            "RangeIndex: 891 entries, 0 to 890\n",
            "Data columns (total 12 columns):\n",
            " #   Column       Non-Null Count  Dtype  \n",
            "---  ------       --------------  -----  \n",
            " 0   PassengerId  891 non-null    int64  \n",
            " 1   Survived     891 non-null    int64  \n",
            " 2   Pclass       891 non-null    int64  \n",
            " 3   Name         891 non-null    object \n",
            " 4   Sex          891 non-null    object \n",
            " 5   Age          714 non-null    float64\n",
            " 6   SibSp        891 non-null    int64  \n",
            " 7   Parch        891 non-null    int64  \n",
            " 8   Ticket       891 non-null    object \n",
            " 9   Fare         891 non-null    float64\n",
            " 10  Cabin        204 non-null    object \n",
            " 11  Embarked     889 non-null    object \n",
            "dtypes: float64(2), int64(5), object(5)\n",
            "memory usage: 83.7+ KB\n"
          ]
        }
      ]
    },
    {
      "cell_type": "code",
      "source": [
        "# Variáveis numéricas\n",
        "numeric_features = train_set.select_dtypes(include=np.number)\n",
        "numeric_features.columns"
      ],
      "metadata": {
        "colab": {
          "base_uri": "https://localhost:8080/"
        },
        "id": "bH1H1Jdvqi9L",
        "outputId": "9aad99ce-4c3c-4ae5-f0bd-8b18b1bfdd54"
      },
      "execution_count": null,
      "outputs": [
        {
          "output_type": "execute_result",
          "data": {
            "text/plain": [
              "Index(['PassengerId', 'Survived', 'Pclass', 'Age', 'SibSp', 'Parch', 'Fare'], dtype='object')"
            ]
          },
          "metadata": {},
          "execution_count": 7
        }
      ]
    },
    {
      "cell_type": "code",
      "source": [
        "# Variáveis categóricas\n",
        "catagoric_features = train_set.select_dtypes(exclude=np.number)\n",
        "catagoric_features.columns"
      ],
      "metadata": {
        "colab": {
          "base_uri": "https://localhost:8080/"
        },
        "id": "BLOcRixJrm5Y",
        "outputId": "e7b66393-a68e-48a2-9aea-b52e284efcc8"
      },
      "execution_count": null,
      "outputs": [
        {
          "output_type": "execute_result",
          "data": {
            "text/plain": [
              "Index(['Name', 'Sex', 'Ticket', 'Cabin', 'Embarked'], dtype='object')"
            ]
          },
          "metadata": {},
          "execution_count": 8
        }
      ]
    },
    {
      "cell_type": "code",
      "source": [
        "train_set.hist(bins=50, figsize=(20, 15), color='purple')\n",
        "plt.show()"
      ],
      "metadata": {
        "colab": {
          "base_uri": "https://localhost:8080/",
          "height": 935
        },
        "id": "_NVIJlqgrriJ",
        "outputId": "dd94a5d0-99c3-4ce3-bc95-bf1d0b9294bb"
      },
      "execution_count": null,
      "outputs": [
        {
          "output_type": "display_data",
          "data": {
            "text/plain": [
              "<Figure size 2000x1500 with 9 Axes>"
            ],
            "image/png": "[encoded data removed]"
          },
          "metadata": {}
        }
      ]
    },
    {
      "cell_type": "markdown",
      "source": [
        "### Correlação entre Variáveis\n",
        "\n",
        "A análise de correlação é uma etapa essencial na exploração de dados, pois permite identificar o grau de relacionamento entre diferentes variáveis do conjunto. Esse tipo de análise ajuda a entender como as variáveis estão conectadas entre si e pode revelar padrões importantes.\n",
        "\n",
        "Correlações mais fortes podem indicar possíveis influências ou dependências entre variáveis, sendo úteis para decisões em modelagem preditiva, seleção de atributos e interpretação dos dados. No contexto do Titanic, por exemplo, pode-se investigar se características como idade, classe social ou gênero têm relação com a taxa de sobrevivência."
      ],
      "metadata": {
        "id": "2Nmrtrc1uaAY"
      }
    },
    {
      "cell_type": "code",
      "source": [
        "# Correlação das variáveis numéricas em relação ao atributo 'Survived'\n",
        "correlation = numeric_features.corr()\n",
        "print(correlation['Survived'].sort_values(ascending=False), '\\n')"
      ],
      "metadata": {
        "colab": {
          "base_uri": "https://localhost:8080/"
        },
        "id": "F_GbUhTruZov",
        "outputId": "346f276b-1fc8-4afd-c90a-6c2d25b279e0"
      },
      "execution_count": null,
      "outputs": [
        {
          "output_type": "stream",
          "name": "stdout",
          "text": [
            "Survived       1.000000\n",
            "Fare           0.257307\n",
            "Parch          0.081629\n",
            "PassengerId   -0.005007\n",
            "SibSp         -0.035322\n",
            "Age           -0.077221\n",
            "Pclass        -0.338481\n",
            "Name: Survived, dtype: float64 \n",
            "\n"
          ]
        }
      ]
    },
    {
      "cell_type": "code",
      "source": [
        "# Mapa de calor da matriz de correlação entre todas as variáveis\n",
        "cmap = sns.light_palette('purple', as_cmap=True)\n",
        "plt.figure(figsize=(8, 6))\n",
        "sns.heatmap(correlation, square=True, cmap=cmap, annot=True, annot_kws={'size': 9}, linecolor='white', linewidths=0.01)\n",
        "plt.title('Heatmap of Correlation Matrix')\n",
        "plt.show()"
      ],
      "metadata": {
        "colab": {
          "base_uri": "https://localhost:8080/",
          "height": 614
        },
        "id": "UovfJcviuy7V",
        "outputId": "8325b4df-53ef-43ac-bb4c-a8d9ab23acce"
      },
      "execution_count": null,
      "outputs": [
        {
          "output_type": "display_data",
          "data": {
            "text/plain": [
              "<Figure size 800x600 with 2 Axes>"
            ],
            "image/png": "[encoded data removed]"
          },
          "metadata": {}
        }
      ]
    },
    {
      "cell_type": "markdown",
      "source": [
        "A seguir, analisaremos a frequência de sobrevivência dos passageiros em relação à colunas relacionadas."
      ],
      "metadata": {
        "id": "Bh3YxzPFvQij"
      }
    },
    {
      "cell_type": "code",
      "source": [
        "# Criando um DataFrame para categorizar passageiros adultos e não adultos\n",
        "train_set['AgeGroup'] = train_set['Age'].apply(lambda x: 'Adult' if x >= 18 and x<= 65 else 'Non-Adult')\n",
        "\n",
        "# Configurando a paleta de cores\n",
        "sns.set_palette('Reds_d')\n",
        "\n",
        "# Plotando a frequência de sobrevivência por classes de idade\n",
        "plt.figure(figsize=(5, 3))\n",
        "sns.countplot(x='AgeGroup', hue='Survived', data=train_set)\n",
        "plt.title('Survival Frequency by Age Group')\n",
        "\n",
        "plt.xlabel('Age Group')\n",
        "plt.ylabel('Passengers')\n",
        "plt.legend(title='Survived', labels=['NO', 'Yes'])\n",
        "\n",
        "plt.show()\n",
        "train_set = train_set.drop(['AgeGroup'], axis=1)"
      ],
      "metadata": {
        "colab": {
          "base_uri": "https://localhost:8080/",
          "height": 333
        },
        "id": "DCE9El0MvM9n",
        "outputId": "7736b870-6c61-4fee-f770-0b66cb1940a7"
      },
      "execution_count": null,
      "outputs": [
        {
          "output_type": "display_data",
          "data": {
            "text/plain": [
              "<Figure size 500x300 with 1 Axes>"
            ],
            "image/png": "[encoded data removed]"
          },
          "metadata": {}
        }
      ]
    },
    {
      "cell_type": "code",
      "source": [
        "# Gráfico de sobrevivência por classe social\n",
        "plt.figure(figsize=(5, 3))\n",
        "sns.countplot(x='Pclass', hue='Survived', data=train_set)\n",
        "plt.title('Survival Frequency by Class')\n",
        "\n",
        "plt.xlabel('Class')\n",
        "plt.ylabel('Passengers')\n",
        "plt.legend(title='Survived', labels=['No','Yes'])\n",
        "\n",
        "plt.show()"
      ],
      "metadata": {
        "colab": {
          "base_uri": "https://localhost:8080/",
          "height": 333
        },
        "id": "NweAoTwfwdGg",
        "outputId": "28b74022-c8fe-467c-980e-143c9f24759e"
      },
      "execution_count": null,
      "outputs": [
        {
          "output_type": "display_data",
          "data": {
            "text/plain": [
              "<Figure size 500x300 with 1 Axes>"
            ],
            "image/png": "[encoded data removed]"
          },
          "metadata": {}
        }
      ]
    },
    {
      "cell_type": "code",
      "source": [
        "# Gráfico de sobrevivência por sexo\n",
        "plt.figure(figsize=(5, 3))\n",
        "sns.countplot(x='Sex', hue='Survived', data=train_set)\n",
        "plt.title('Survival Frequency by Gender')\n",
        "\n",
        "plt.xlabel('Gender')\n",
        "plt.ylabel('Passengers')\n",
        "plt.legend(title='Survived', labels=['No','Yes'])\n",
        "\n",
        "plt.show()"
      ],
      "metadata": {
        "colab": {
          "base_uri": "https://localhost:8080/",
          "height": 333
        },
        "id": "4t7T6U4-wi-S",
        "outputId": "6c4e8bda-43aa-4e05-ec8d-4658465e860b"
      },
      "execution_count": null,
      "outputs": [
        {
          "output_type": "display_data",
          "data": {
            "text/plain": [
              "<Figure size 500x300 with 1 Axes>"
            ],
            "image/png": "[encoded data removed]"
          },
          "metadata": {}
        }
      ]
    },
    {
      "cell_type": "markdown",
      "source": [
        "### Dados faltantes\n",
        "#### A coluna Age apresenta 177 valores faltantes, indicando que uma quantidade significativa de passageiros não teve sua idade registrada. A coluna Cabin é a que apresenta o maior número de dados ausentes, com 687 valores faltantes, sugerindo que muitas cabines não foram registradas ou os passageiros não tinham uma cabine específica. A coluna Embarked possui apenas 2 valores faltantes, mostrando que a maioria dos passageiros tem o porto de embarque registrado."
      ],
      "metadata": {
        "id": "ZloBY-TjvA0G"
      }
    },
    {
      "cell_type": "code",
      "source": [
        "missing = train_set.isnull().sum()\n",
        "print(missing)"
      ],
      "metadata": {
        "colab": {
          "base_uri": "https://localhost:8080/"
        },
        "id": "vx4jo1C-yH6u",
        "outputId": "e1382244-5d65-47c3-c463-16a81110841e"
      },
      "execution_count": null,
      "outputs": [
        {
          "output_type": "stream",
          "name": "stdout",
          "text": [
            "PassengerId      0\n",
            "Survived         0\n",
            "Pclass           0\n",
            "Name             0\n",
            "Sex              0\n",
            "Age            177\n",
            "SibSp            0\n",
            "Parch            0\n",
            "Ticket           0\n",
            "Fare             0\n",
            "Cabin          687\n",
            "Embarked         2\n",
            "dtype: int64\n"
          ]
        }
      ]
    },
    {
      "cell_type": "code",
      "source": [
        "missing = train_set.isnull().mean() * 100\n",
        "missing = missing[missing > 0].sort_values(ascending=False)\n",
        "\n",
        "# Plot\n",
        "plt.figure(figsize=(5, 3))\n",
        "missing.plot(kind='bar', color='purple')\n",
        "plt.ylabel('Dados ausentes(%)')\n",
        "plt.title('Porcentagem de dados ausentes por feature')\n",
        "plt.xticks(rotation=45, ha='right')\n",
        "plt.grid(axis='y', linestyle='--', alpha=0.5)\n",
        "plt.tight_layout()\n",
        "plt.show()"
      ],
      "metadata": {
        "colab": {
          "base_uri": "https://localhost:8080/",
          "height": 307
        },
        "id": "-CBKt_hzskVV",
        "outputId": "bc981155-6e58-4b7d-dd27-b29cc2492d11"
      },
      "execution_count": null,
      "outputs": [
        {
          "output_type": "display_data",
          "data": {
            "text/plain": [
              "<Figure size 500x300 with 1 Axes>"
            ],
            "image/png": "[encoded data removed]"
          },
          "metadata": {}
        }
      ]
    },
    {
      "cell_type": "markdown",
      "source": [
        "### Outliers"
      ],
      "metadata": {
        "id": "9hKm86N-WZ7M"
      }
    },
    {
      "cell_type": "markdown",
      "source": [
        " Tratando Outliers\n",
        "\n",
        "Outliers são pontos muito fora da curva (ex: o salário de um diretor vs. o de um estagiário).\n",
        "\n",
        " Por que se importar?\n",
        "\n",
        "* Eles bagunçam a **média**.\n",
        "* Eles confundem alguns modelos (como Redes Neurais), fazendo-os errar mais.\n",
        " A Regra de Ouro\n",
        "\n",
        "Pergunte: **Este outlier é um erro ou um evento real?**\n",
        "\n",
        "* **Se for um erro** (ex: idade = 200): corrija ou remova.\n",
        "* **Se for um evento real** (ex: uma fraude, um dia de vendas da Black Friday): **mantenha!** É uma informação valiosa.\n",
        "\n",
        "> Cuidar dos outliers cria um modelo mais confiável."
      ],
      "metadata": {
        "id": "88-MuMWqvyiw"
      }
    },
    {
      "cell_type": "code",
      "source": [
        "def contar_outliers_iqr(df):\n",
        "    \"\"\"Calcula a quantidade de outliers para cada coluna numérica de um DataFrame.\"\"\"\n",
        "    outliers_dict = {}\n",
        "    # Itera apenas sobre as colunas numéricas\n",
        "    for col in df.select_dtypes(include=np.number).columns:\n",
        "        Q1 = df[col].quantile(0.25)\n",
        "        Q3 = df[col].quantile(0.75)\n",
        "        IQR = Q3 - Q1\n",
        "\n",
        "        lower_bound = Q1 - 1.5 * IQR\n",
        "        upper_bound = Q3 + 1.5 * IQR\n",
        "\n",
        "        outlier_count = df[(df[col] < lower_bound) | (df[col] > upper_bound)][col].count()\n",
        "        outliers_dict[col] = outlier_count\n",
        "\n",
        "    return outliers_dict\n",
        "\n"
      ],
      "metadata": {
        "id": "wH6b_xFJzkzr"
      },
      "execution_count": null,
      "outputs": []
    },
    {
      "cell_type": "code",
      "source": [
        "outliers = contar_outliers_iqr(train_set)\n",
        "\n",
        "for key, value in outliers.items():\n",
        "  print(f'{key}: {value}')"
      ],
      "metadata": {
        "id": "6pkmPF61CEfM",
        "colab": {
          "base_uri": "https://localhost:8080/"
        },
        "outputId": "c812fba1-375f-499d-850d-bd9c4b3afd06"
      },
      "execution_count": null,
      "outputs": [
        {
          "output_type": "stream",
          "name": "stdout",
          "text": [
            "PassengerId: 0\n",
            "Survived: 0\n",
            "Pclass: 0\n",
            "Age: 11\n",
            "SibSp: 46\n",
            "Parch: 213\n",
            "Fare: 116\n"
          ]
        }
      ]
    },
    {
      "cell_type": "code",
      "source": [
        "# Lista de colunas que você deseja plotar ('Survived' foi removida)\n",
        "cols_to_plot = ['Pclass', 'Age', 'SibSp', 'Parch', 'Fare']\n",
        "\n",
        "# Cria a figura e a grade de subplots\n",
        "fig, axes = plt.subplots(nrows=2, ncols=3, figsize=(10, 6))\n",
        "flat_axes = axes.flatten()\n",
        "\n",
        "# pega a cor da biblioteca\n",
        "purple_color = sns.color_palette(\"Purples_d\")[2]\n",
        "\n",
        "# Itera sobre os eixos e colunas para criar os gráficos\n",
        "for i, col in enumerate(cols_to_plot):\n",
        "    ax = flat_axes[i]\n",
        "    sns.boxplot(x=train_set[col], ax=ax, color=purple_color, whis=1.5)\n",
        "    ax.set_title(f'Boxplot para {col}')\n",
        "    ax.set_xlabel('')\n",
        "\n",
        "# Esconde os eixos que não foram utilizados\n",
        "for i in range(len(cols_to_plot), len(flat_axes)):\n",
        "    flat_axes[i].set_visible(False)\n",
        "\n",
        "# Ajusta o layout para que os títulos e gráficos não se sobreponham\n",
        "plt.tight_layout()\n",
        "plt.show()"
      ],
      "metadata": {
        "colab": {
          "base_uri": "https://localhost:8080/",
          "height": 607
        },
        "id": "aMKhMbm6zqPV",
        "outputId": "f08cd53c-f769-45f5-cc90-1061ca37f542"
      },
      "execution_count": null,
      "outputs": [
        {
          "output_type": "display_data",
          "data": {
            "text/plain": [
              "<Figure size 1000x600 with 6 Axes>"
            ],
            "image/png": "[encoded data removed]"
          },
          "metadata": {}
        }
      ]
    },
    {
      "cell_type": "markdown",
      "source": [
        "## **Parte 2 - Pré-processamento de Dados**"
      ],
      "metadata": {
        "id": "EbR9v28hPlxy"
      }
    },
    {
      "cell_type": "markdown",
      "source": [
        "Removendo campos nome, id, número da cabine e ticket. Esses dados não serão utilizados no treinamento.\n",
        "Como grande parte dos valores da cabine não estão presentes, não faz sentido completar esses dados."
      ],
      "metadata": {
        "id": "SBOanxWdqI3E"
      }
    },
    {
      "cell_type": "code",
      "source": [
        "dataset = train_set.drop(['PassengerId', 'Name', 'Cabin','Ticket'], axis=1)\n",
        "dataset.head()\n",
        "# y = dataset.iloc[:, 0].values\n",
        "# X = dataset.iloc[:, 1:].values"
      ],
      "metadata": {
        "colab": {
          "base_uri": "https://localhost:8080/",
          "height": 206
        },
        "id": "CujVYtPMn6Ef",
        "outputId": "1a4fe816-2f08-454b-9666-d8791ae2b833"
      },
      "execution_count": null,
      "outputs": [
        {
          "output_type": "execute_result",
          "data": {
            "text/plain": [
              "   Survived  Pclass     Sex   Age  SibSp  Parch     Fare Embarked\n",
              "0         0       3    male  22.0      1      0   7.2500        S\n",
              "1         1       1  female  38.0      1      0  71.2833        C\n",
              "2         1       3  female  26.0      0      0   7.9250        S\n",
              "3         1       1  female  35.0      1      0  53.1000        S\n",
              "4         0       3    male  35.0      0      0   8.0500        S"
            ],
            "text/html": [
              "\n",
              "  <div id=\"df-f5201206-c308-400b-92ae-b0a1bc67789f\" class=\"colab-df-container\">\n",
              "    <div>\n",
              "<style scoped>\n",
              "    .dataframe tbody tr th:only-of-type {\n",
              "        vertical-align: middle;\n",
              "    }\n",
              "\n",
              "    .dataframe tbody tr th {\n",
              "        vertical-align: top;\n",
              "    }\n",
              "\n",
              "    .dataframe thead th {\n",
              "        text-align: right;\n",
              "    }\n",
              "</style>\n",
              "<table border=\"1\" class=\"dataframe\">\n",
              "  <thead>\n",
              "    <tr style=\"text-align: right;\">\n",
              "      <th></th>\n",
              "      <th>Survived</th>\n",
              "      <th>Pclass</th>\n",
              "      <th>Sex</th>\n",
              "      <th>Age</th>\n",
              "      <th>SibSp</th>\n",
              "      <th>Parch</th>\n",
              "      <th>Fare</th>\n",
              "      <th>Embarked</th>\n",
              "    </tr>\n",
              "  </thead>\n",
              "  <tbody>\n",
              "    <tr>\n",
              "      <th>0</th>\n",
              "      <td>0</td>\n",
              "      <td>3</td>\n",
              "      <td>male</td>\n",
              "      <td>22.0</td>\n",
              "      <td>1</td>\n",
              "      <td>0</td>\n",
              "      <td>7.2500</td>\n",
              "      <td>S</td>\n",
              "    </tr>\n",
              "    <tr>\n",
              "      <th>1</th>\n",
              "      <td>1</td>\n",
              "      <td>1</td>\n",
              "      <td>female</td>\n",
              "      <td>38.0</td>\n",
              "      <td>1</td>\n",
              "      <td>0</td>\n",
              "      <td>71.2833</td>\n",
              "      <td>C</td>\n",
              "    </tr>\n",
              "    <tr>\n",
              "      <th>2</th>\n",
              "      <td>1</td>\n",
              "      <td>3</td>\n",
              "      <td>female</td>\n",
              "      <td>26.0</td>\n",
              "      <td>0</td>\n",
              "      <td>0</td>\n",
              "      <td>7.9250</td>\n",
              "      <td>S</td>\n",
              "    </tr>\n",
              "    <tr>\n",
              "      <th>3</th>\n",
              "      <td>1</td>\n",
              "      <td>1</td>\n",
              "      <td>female</td>\n",
              "      <td>35.0</td>\n",
              "      <td>1</td>\n",
              "      <td>0</td>\n",
              "      <td>53.1000</td>\n",
              "      <td>S</td>\n",
              "    </tr>\n",
              "    <tr>\n",
              "      <th>4</th>\n",
              "      <td>0</td>\n",
              "      <td>3</td>\n",
              "      <td>male</td>\n",
              "      <td>35.0</td>\n",
              "      <td>0</td>\n",
              "      <td>0</td>\n",
              "      <td>8.0500</td>\n",
              "      <td>S</td>\n",
              "    </tr>\n",
              "  </tbody>\n",
              "</table>\n",
              "</div>\n",
              "    <div class=\"colab-df-buttons\">\n",
              "\n",
              "  <div class=\"colab-df-container\">\n",
              "    <button class=\"colab-df-convert\" onclick=\"convertToInteractive('df-f5201206-c308-400b-92ae-b0a1bc67789f')\"\n",
              "            title=\"Convert this dataframe to an interactive table.\"\n",
              "            style=\"display:none;\">\n",
              "\n",
              "  <svg xmlns=\"http://www.w3.org/2000/svg\" height=\"24px\" viewBox=\"0 -960 960 960\">\n",
              "    <path d=\"M120-120v-720h720v720H120Zm60-500h600v-160H180v160Zm220 220h160v-160H400v160Zm0 220h160v-160H400v160ZM180-400h160v-160H180v160Zm440 0h160v-160H620v160ZM180-180h160v-160H180v160Zm440 0h160v-160H620v160Z\"/>\n",
              "  </svg>\n",
              "    </button>\n",
              "\n",
              "  <style>\n",
              "    .colab-df-container {\n",
              "      display:flex;\n",
              "      gap: 12px;\n",
              "    }\n",
              "\n",
              "    .colab-df-convert {\n",
              "      background-color: #E8F0FE;\n",
              "      border: none;\n",
              "      border-radius: 50%;\n",
              "      cursor: pointer;\n",
              "      display: none;\n",
              "      fill: #1967D2;\n",
              "      height: 32px;\n",
              "      padding: 0 0 0 0;\n",
              "      width: 32px;\n",
              "    }\n",
              "\n",
              "    .colab-df-convert:hover {\n",
              "      background-color: #E2EBFA;\n",
              "      box-shadow: 0px 1px 2px rgba(60, 64, 67, 0.3), 0px 1px 3px 1px rgba(60, 64, 67, 0.15);\n",
              "      fill: #174EA6;\n",
              "    }\n",
              "\n",
              "    .colab-df-buttons div {\n",
              "      margin-bottom: 4px;\n",
              "    }\n",
              "\n",
              "    [theme=dark] .colab-df-convert {\n",
              "      background-color: #3B4455;\n",
              "      fill: #D2E3FC;\n",
              "    }\n",
              "\n",
              "    [theme=dark] .colab-df-convert:hover {\n",
              "      background-color: #434B5C;\n",
              "      box-shadow: 0px 1px 3px 1px rgba(0, 0, 0, 0.15);\n",
              "      filter: drop-shadow(0px 1px 2px rgba(0, 0, 0, 0.3));\n",
              "      fill: #FFFFFF;\n",
              "    }\n",
              "  </style>\n",
              "\n",
              "    <script>\n",
              "      const buttonEl =\n",
              "        document.querySelector('#df-f5201206-c308-400b-92ae-b0a1bc67789f button.colab-df-convert');\n",
              "      buttonEl.style.display =\n",
              "        google.colab.kernel.accessAllowed ? 'block' : 'none';\n",
              "\n",
              "      async function convertToInteractive(key) {\n",
              "        const element = document.querySelector('#df-f5201206-c308-400b-92ae-b0a1bc67789f');\n",
              "        const dataTable =\n",
              "          await google.colab.kernel.invokeFunction('convertToInteractive',\n",
              "                                                    [key], {});\n",
              "        if (!dataTable) return;\n",
              "\n",
              "        const docLinkHtml = 'Like what you see? Visit the ' +\n",
              "          '<a target=\"_blank\" href=https://colab.research.google.com/notebooks/data_table.ipynb>data table notebook</a>'\n",
              "          + ' to learn more about interactive tables.';\n",
              "        element.innerHTML = '';\n",
              "        dataTable['output_type'] = 'display_data';\n",
              "        await google.colab.output.renderOutput(dataTable, element);\n",
              "        const docLink = document.createElement('div');\n",
              "        docLink.innerHTML = docLinkHtml;\n",
              "        element.appendChild(docLink);\n",
              "      }\n",
              "    </script>\n",
              "  </div>\n",
              "\n",
              "\n",
              "    <div id=\"df-ab8a89b9-9732-4f37-a104-629e6c7be565\">\n",
              "      <button class=\"colab-df-quickchart\" onclick=\"quickchart('df-ab8a89b9-9732-4f37-a104-629e6c7be565')\"\n",
              "                title=\"Suggest charts\"\n",
              "                style=\"display:none;\">\n",
              "\n",
              "<svg xmlns=\"http://www.w3.org/2000/svg\" height=\"24px\"viewBox=\"0 0 24 24\"\n",
              "     width=\"24px\">\n",
              "    <g>\n",
              "        <path d=\"M19 3H5c-1.1 0-2 .9-2 2v14c0 1.1.9 2 2 2h14c1.1 0 2-.9 2-2V5c0-1.1-.9-2-2-2zM9 17H7v-7h2v7zm4 0h-2V7h2v10zm4 0h-2v-4h2v4z\"/>\n",
              "    </g>\n",
              "</svg>\n",
              "      </button>\n",
              "\n",
              "<style>\n",
              "  .colab-df-quickchart {\n",
              "      --bg-color: #E8F0FE;\n",
              "      --fill-color: #1967D2;\n",
              "      --hover-bg-color: #E2EBFA;\n",
              "      --hover-fill-color: #174EA6;\n",
              "      --disabled-fill-color: #AAA;\n",
              "      --disabled-bg-color: #DDD;\n",
              "  }\n",
              "\n",
              "  [theme=dark] .colab-df-quickchart {\n",
              "      --bg-color: #3B4455;\n",
              "      --fill-color: #D2E3FC;\n",
              "      --hover-bg-color: #434B5C;\n",
              "      --hover-fill-color: #FFFFFF;\n",
              "      --disabled-bg-color: #3B4455;\n",
              "      --disabled-fill-color: #666;\n",
              "  }\n",
              "\n",
              "  .colab-df-quickchart {\n",
              "    background-color: var(--bg-color);\n",
              "    border: none;\n",
              "    border-radius: 50%;\n",
              "    cursor: pointer;\n",
              "    display: none;\n",
              "    fill: var(--fill-color);\n",
              "    height: 32px;\n",
              "    padding: 0;\n",
              "    width: 32px;\n",
              "  }\n",
              "\n",
              "  .colab-df-quickchart:hover {\n",
              "    background-color: var(--hover-bg-color);\n",
              "    box-shadow: 0 1px 2px rgba(60, 64, 67, 0.3), 0 1px 3px 1px rgba(60, 64, 67, 0.15);\n",
              "    fill: var(--button-hover-fill-color);\n",
              "  }\n",
              "\n",
              "  .colab-df-quickchart-complete:disabled,\n",
              "  .colab-df-quickchart-complete:disabled:hover {\n",
              "    background-color: var(--disabled-bg-color);\n",
              "    fill: var(--disabled-fill-color);\n",
              "    box-shadow: none;\n",
              "  }\n",
              "\n",
              "  .colab-df-spinner {\n",
              "    border: 2px solid var(--fill-color);\n",
              "    border-color: transparent;\n",
              "    border-bottom-color: var(--fill-color);\n",
              "    animation:\n",
              "      spin 1s steps(1) infinite;\n",
              "  }\n",
              "\n",
              "  @keyframes spin {\n",
              "    0% {\n",
              "      border-color: transparent;\n",
              "      border-bottom-color: var(--fill-color);\n",
              "      border-left-color: var(--fill-color);\n",
              "    }\n",
              "    20% {\n",
              "      border-color: transparent;\n",
              "      border-left-color: var(--fill-color);\n",
              "      border-top-color: var(--fill-color);\n",
              "    }\n",
              "    30% {\n",
              "      border-color: transparent;\n",
              "      border-left-color: var(--fill-color);\n",
              "      border-top-color: var(--fill-color);\n",
              "      border-right-color: var(--fill-color);\n",
              "    }\n",
              "    40% {\n",
              "      border-color: transparent;\n",
              "      border-right-color: var(--fill-color);\n",
              "      border-top-color: var(--fill-color);\n",
              "    }\n",
              "    60% {\n",
              "      border-color: transparent;\n",
              "      border-right-color: var(--fill-color);\n",
              "    }\n",
              "    80% {\n",
              "      border-color: transparent;\n",
              "      border-right-color: var(--fill-color);\n",
              "      border-bottom-color: var(--fill-color);\n",
              "    }\n",
              "    90% {\n",
              "      border-color: transparent;\n",
              "      border-bottom-color: var(--fill-color);\n",
              "    }\n",
              "  }\n",
              "</style>\n",
              "\n",
              "      <script>\n",
              "        async function quickchart(key) {\n",
              "          const quickchartButtonEl =\n",
              "            document.querySelector('#' + key + ' button');\n",
              "          quickchartButtonEl.disabled = true;  // To prevent multiple clicks.\n",
              "          quickchartButtonEl.classList.add('colab-df-spinner');\n",
              "          try {\n",
              "            const charts = await google.colab.kernel.invokeFunction(\n",
              "                'suggestCharts', [key], {});\n",
              "          } catch (error) {\n",
              "            console.error('Error during call to suggestCharts:', error);\n",
              "          }\n",
              "          quickchartButtonEl.classList.remove('colab-df-spinner');\n",
              "          quickchartButtonEl.classList.add('colab-df-quickchart-complete');\n",
              "        }\n",
              "        (() => {\n",
              "          let quickchartButtonEl =\n",
              "            document.querySelector('#df-ab8a89b9-9732-4f37-a104-629e6c7be565 button');\n",
              "          quickchartButtonEl.style.display =\n",
              "            google.colab.kernel.accessAllowed ? 'block' : 'none';\n",
              "        })();\n",
              "      </script>\n",
              "    </div>\n",
              "\n",
              "    </div>\n",
              "  </div>\n"
            ],
            "application/vnd.google.colaboratory.intrinsic+json": {
              "type": "dataframe",
              "summary": "{\n  \"name\": \"# X = dataset\",\n  \"rows\": 5,\n  \"fields\": [\n    {\n      \"column\": \"Survived\",\n      \"properties\": {\n        \"dtype\": \"number\",\n        \"std\": 0,\n        \"min\": 0,\n        \"max\": 1,\n        \"num_unique_values\": 2,\n        \"samples\": [\n          1,\n          0\n        ],\n        \"semantic_type\": \"\",\n        \"description\": \"\"\n      }\n    },\n    {\n      \"column\": \"Pclass\",\n      \"properties\": {\n        \"dtype\": \"number\",\n        \"std\": 1,\n        \"min\": 1,\n        \"max\": 3,\n        \"num_unique_values\": 2,\n        \"samples\": [\n          1,\n          3\n        ],\n        \"semantic_type\": \"\",\n        \"description\": \"\"\n      }\n    },\n    {\n      \"column\": \"Sex\",\n      \"properties\": {\n        \"dtype\": \"category\",\n        \"num_unique_values\": 2,\n        \"samples\": [\n          \"female\",\n          \"male\"\n        ],\n        \"semantic_type\": \"\",\n        \"description\": \"\"\n      }\n    },\n    {\n      \"column\": \"Age\",\n      \"properties\": {\n        \"dtype\": \"number\",\n        \"std\": 6.833739825307955,\n        \"min\": 22.0,\n        \"max\": 38.0,\n        \"num_unique_values\": 4,\n        \"samples\": [\n          38.0,\n          35.0\n        ],\n        \"semantic_type\": \"\",\n        \"description\": \"\"\n      }\n    },\n    {\n      \"column\": \"SibSp\",\n      \"properties\": {\n        \"dtype\": \"number\",\n        \"std\": 0,\n        \"min\": 0,\n        \"max\": 1,\n        \"num_unique_values\": 2,\n        \"samples\": [\n          0,\n          1\n        ],\n        \"semantic_type\": \"\",\n        \"description\": \"\"\n      }\n    },\n    {\n      \"column\": \"Parch\",\n      \"properties\": {\n        \"dtype\": \"number\",\n        \"std\": 0,\n        \"min\": 0,\n        \"max\": 0,\n        \"num_unique_values\": 1,\n        \"samples\": [\n          0\n        ],\n        \"semantic_type\": \"\",\n        \"description\": \"\"\n      }\n    },\n    {\n      \"column\": \"Fare\",\n      \"properties\": {\n        \"dtype\": \"number\",\n        \"std\": 30.5100288352535,\n        \"min\": 7.25,\n        \"max\": 71.2833,\n        \"num_unique_values\": 5,\n        \"samples\": [\n          71.2833\n        ],\n        \"semantic_type\": \"\",\n        \"description\": \"\"\n      }\n    },\n    {\n      \"column\": \"Embarked\",\n      \"properties\": {\n        \"dtype\": \"category\",\n        \"num_unique_values\": 2,\n        \"samples\": [\n          \"C\"\n        ],\n        \"semantic_type\": \"\",\n        \"description\": \"\"\n      }\n    }\n  ]\n}"
            }
          },
          "metadata": {},
          "execution_count": 20
        }
      ]
    },
    {
      "cell_type": "markdown",
      "source": [
        "### Dados Ausentes\n",
        "\n",
        "É necessário completar os valores ausentes da idade, dado que é uma feature relevante para ser excluída do treinamento. A coluna idade apresenta 20% de valores ausentes. Também é preciso *completar* o local de embarque com a moda dos valores. Visto que é uma dado categórico."
      ],
      "metadata": {
        "id": "9LuqJIza2IWH"
      }
    },
    {
      "cell_type": "code",
      "source": [
        "# Imputação da moda para a coluna 'Embarked' (se existir)\n",
        "if 'Embarked' in dataset.columns:\n",
        "    mode = dataset['Embarked'].mode()[0]\n",
        "    dataset.fillna({'Embarked': mode}, inplace=True)\n",
        "\n",
        "# Imputação da média na coluna 'Age'\n",
        "age_mean = dataset['Age'].mean()\n",
        "dataset.fillna({'Age': age_mean}, inplace=True)"
      ],
      "metadata": {
        "id": "H-4Lmqr88e2T"
      },
      "execution_count": null,
      "outputs": []
    },
    {
      "cell_type": "markdown",
      "source": [
        "### Tratamento de Outliers"
      ],
      "metadata": {
        "id": "8DNMCq2i8-dI"
      }
    },
    {
      "cell_type": "code",
      "source": [
        "def tratar_features_numericas(df):\n",
        "    \"\"\"Aplica os tratamentos de outliers e transformações em um DataFrame.\"\"\"\n",
        "    df_tratado = df.copy()\n",
        "\n",
        "    if 'Fare' in df_tratado.columns:\n",
        "        df_tratado['Fare'] = np.log1p(df_tratado['Fare'])\n",
        "\n",
        "    return df_tratado"
      ],
      "metadata": {
        "id": "DxQ_c_A0dH5A"
      },
      "execution_count": null,
      "outputs": []
    },
    {
      "cell_type": "code",
      "source": [
        "dataset = tratar_features_numericas(dataset)\n"
      ],
      "metadata": {
        "id": "fwM1SVIJBiU3"
      },
      "execution_count": null,
      "outputs": []
    },
    {
      "cell_type": "code",
      "source": [
        "y = dataset.iloc[:, 0].values\n",
        "X = dataset.iloc[:, 1:].values"
      ],
      "metadata": {
        "id": "N-LsgF8453Iv"
      },
      "execution_count": null,
      "outputs": []
    },
    {
      "cell_type": "markdown",
      "source": [
        "###Codificação de Atributos\n",
        "\n"
      ],
      "metadata": {
        "id": "1JEEgecz-74B"
      }
    },
    {
      "cell_type": "markdown",
      "source": [
        "Codificação do gênero usando o Label Encoder dado que é binário"
      ],
      "metadata": {
        "id": "PbTI3kiEw5tG"
      }
    },
    {
      "cell_type": "code",
      "source": [
        "le = LabelEncoder()\n",
        "X[:, 1] = le.fit_transform(X[:, 1])"
      ],
      "metadata": {
        "id": "54skBKvJw7ee"
      },
      "execution_count": null,
      "outputs": []
    },
    {
      "cell_type": "code",
      "source": [
        "print(X[0, :])\n",
        "print(X[:, 1])"
      ],
      "metadata": {
        "colab": {
          "base_uri": "https://localhost:8080/"
        },
        "id": "CuRu9eJ1w9hk",
        "outputId": "d62b755d-9807-40f9-aa02-c1c01fdf29ec",
        "collapsed": true
      },
      "execution_count": null,
      "outputs": [
        {
          "output_type": "stream",
          "name": "stdout",
          "text": [
            "[3 1 22.0 1 0 2.1102132003465894 'S']\n",
            "[1 0 0 0 1 1 1 1 0 0 0 0 1 1 0 0 1 1 0 0 1 1 0 1 0 0 1 1 0 1 1 0 0 1 1 1 1\n",
            " 1 0 0 0 0 1 0 0 1 1 0 1 0 1 1 0 0 1 1 0 1 0 1 1 0 1 1 1 1 0 1 0 1 1 0 1 1\n",
            " 1 1 1 1 1 0 1 1 0 1 0 0 1 1 0 1 1 1 1 1 1 1 1 1 0 1 0 1 1 1 1 1 0 1 1 0 1\n",
            " 0 1 0 0 1 1 1 1 0 1 1 1 0 1 1 1 1 0 1 1 1 0 0 1 1 0 1 1 1 0 0 0 1 1 1 1 0\n",
            " 1 1 1 0 1 1 1 1 0 1 1 1 1 0 1 1 1 1 0 0 1 1 1 1 0 1 1 1 1 0 1 1 0 1 1 1 0\n",
            " 1 0 1 1 1 0 1 0 1 0 0 1 1 0 0 1 1 1 1 1 0 1 1 0 1 1 0 1 1 1 0 0 1 0 1 1 1\n",
            " 1 1 1 1 1 1 1 0 0 1 1 0 1 0 1 0 1 1 0 0 1 1 1 1 0 0 1 1 1 0 1 1 0 0 0 0 0\n",
            " 0 1 1 1 1 0 1 1 1 0 0 1 1 0 1 0 0 0 1 1 0 1 1 1 1 1 1 1 1 1 0 0 0 1 0 1 1\n",
            " 1 0 1 0 0 1 1 0 1 1 0 0 1 0 0 0 0 1 1 0 0 1 0 0 1 1 0 0 1 0 1 0 0 0 0 1 1\n",
            " 1 0 1 1 0 1 1 1 0 1 1 1 0 0 0 1 1 1 1 1 1 1 1 0 0 0 0 1 1 0 1 1 1 0 0 0 0\n",
            " 1 1 1 1 0 0 0 1 1 1 0 0 1 0 1 1 1 0 1 0 1 1 1 0 0 1 0 1 1 0 1 1 0 1 0 1 1\n",
            " 1 1 0 1 1 0 1 1 0 0 0 1 0 1 1 1 0 1 1 0 0 1 1 1 0 0 1 1 0 0 0 1 1 0 1 1 0\n",
            " 1 1 0 1 0 1 1 1 1 1 1 1 1 0 0 1 1 1 1 1 1 1 1 1 1 0 1 1 0 0 0 1 1 1 1 0 1\n",
            " 1 1 0 1 0 0 1 1 1 1 1 1 1 1 1 0 1 0 1 1 0 0 0 0 1 0 1 1 1 1 1 1 0 1 1 0 1\n",
            " 0 1 0 1 1 0 1 1 0 1 1 1 0 1 1 0 0 0 1 0 1 0 0 0 0 1 1 1 0 1 1 1 1 1 1 1 0\n",
            " 1 0 1 0 0 1 1 1 1 0 1 1 0 1 1 1 0 1 0 1 1 0 0 0 1 0 0 1 1 1 0 1 1 1 1 1 0\n",
            " 1 0 1 1 0 1 1 1 0 1 1 1 1 1 1 1 0 0 0 1 0 1 1 0 1 0 0 1 1 1 1 1 1 1 1 0 1\n",
            " 1 1 1 1 1 0 0 1 1 0 1 1 0 0 1 0 1 1 1 1 0 1 0 1 0 0 1 1 0 1 1 1 1 1 1 1 1\n",
            " 1 1 1 0 0 1 1 1 1 1 1 0 0 1 0 1 1 1 1 1 1 1 1 0 1 0 1 1 1 1 1 0 1 1 0 1 0\n",
            " 1 1 1 0 1 0 1 0 1 1 1 1 1 0 0 1 1 0 1 1 1 1 1 0 0 1 0 0 1 1 1 1 1 0 1 1 1\n",
            " 1 1 0 1 1 1 1 0 1 1 0 1 1 1 0 1 1 1 1 0 1 1 1 0 1 0 1 0 1 1 1 1 0 1 0 1 1\n",
            " 0 1 0 0 0 1 1 1 1 0 1 1 1 1 1 0 1 1 1 0 0 1 0 1 0 1 1 1 1 1 0 1 0 1 1 1 0\n",
            " 1 1 0 1 1 1 0 1 1 0 1 1 1 1 1 0 0 1 1 1 1 0 1 1 1 1 1 1 0 1 1 1 1 1 1 0 1\n",
            " 1 0 0 0 0 0 1 0 1 1 1 0 0 1 0 0 1 1 1 1 0 1 1 0 0 1 1 1 0 0 1 0 1 1 0 1 0\n",
            " 0 1 1]\n"
          ]
        }
      ]
    },
    {
      "cell_type": "markdown",
      "source": [
        "Codificação usando OneHotEncoder para o porto de embarque"
      ],
      "metadata": {
        "id": "jIiDDD-TyECv"
      }
    },
    {
      "cell_type": "code",
      "source": [
        "ct = ColumnTransformer(transformers=[('encoder', OneHotEncoder(), [-1])], remainder='passthrough')\n",
        "X = np.array(ct.fit_transform(X))"
      ],
      "metadata": {
        "id": "cXVim2cGyDId"
      },
      "execution_count": null,
      "outputs": []
    },
    {
      "cell_type": "markdown",
      "source": [
        "### Divisão dos dados\n",
        "\n",
        "\n"
      ],
      "metadata": {
        "id": "v8VFoF7zB72e"
      }
    },
    {
      "cell_type": "code",
      "source": [
        "X_not_survived = []\n",
        "y_not_survived = []\n",
        "X_survived = []\n",
        "y_survived = []\n",
        "for i in range(len(X)):\n",
        "  if y[i] == 0:\n",
        "    X_not_survived.append(X[i, :])\n",
        "    y_not_survived.append(y[i])\n",
        "  else:\n",
        "    X_survived.append(X[i, :])\n",
        "    y_survived.append(y[i])\n",
        "\n",
        "X_not_survived = np.array(X_not_survived)\n",
        "y_not_survived = np.array(y_not_survived)\n",
        "X_survived = np.array(X_survived)\n",
        "y_survived = np.array(y_survived)"
      ],
      "metadata": {
        "id": "c3YgGFoWIOob"
      },
      "execution_count": null,
      "outputs": []
    },
    {
      "cell_type": "markdown",
      "source": [
        "### Dividindo os dados por classe"
      ],
      "metadata": {
        "id": "uFDJ_oG3JyCX"
      }
    },
    {
      "cell_type": "code",
      "source": [
        "print(len(X_not_survived))\n",
        "print(len(y_not_survived))\n",
        "print(len(X_survived))\n",
        "print(len(y_survived))"
      ],
      "metadata": {
        "colab": {
          "base_uri": "https://localhost:8080/"
        },
        "id": "c9G0Fl0pIO6J",
        "outputId": "66ee563a-79a3-4f6f-ee1b-976158237ae3"
      },
      "execution_count": null,
      "outputs": [
        {
          "output_type": "stream",
          "name": "stdout",
          "text": [
            "549\n",
            "549\n",
            "342\n",
            "342\n"
          ]
        }
      ]
    },
    {
      "cell_type": "code",
      "source": [
        "X_train_1, X_rest_1, y_train_1, y_rest_1 = train_test_split(\n",
        "    X_not_survived,y_not_survived,\n",
        "    train_size=0.5,\n",
        "    random_state=1)"
      ],
      "metadata": {
        "id": "PoA5hvPuIPLA"
      },
      "execution_count": null,
      "outputs": []
    },
    {
      "cell_type": "code",
      "source": [
        "X_train_2, X_rest_2, y_train_2, y_rest_2 = train_test_split(\n",
        "    X_survived,y_survived,\n",
        "    train_size=0.5,\n",
        "    random_state=1)"
      ],
      "metadata": {
        "id": "VZhaEL6sJO9b"
      },
      "execution_count": null,
      "outputs": []
    },
    {
      "cell_type": "code",
      "source": [
        "X_test_1, X_val_1, y_test_1, y_val_1 = train_test_split(\n",
        "    X_rest_1,y_rest_1,\n",
        "    train_size=0.5,\n",
        "    random_state=1)"
      ],
      "metadata": {
        "id": "CZAMfhuoI1XB"
      },
      "execution_count": null,
      "outputs": []
    },
    {
      "cell_type": "code",
      "source": [
        "X_test_2, X_val_2, y_test_2, y_val_2 = train_test_split(\n",
        "    X_rest_2,y_rest_2,\n",
        "    train_size=0.5,\n",
        "    random_state=1)"
      ],
      "metadata": {
        "id": "lcoQxET9JVG_"
      },
      "execution_count": null,
      "outputs": []
    },
    {
      "cell_type": "code",
      "source": [
        "print(len(X_train_1))\n",
        "print(len(X_train_2))\n",
        "\n",
        "print(len(X_test_1))\n",
        "print(len(X_test_2))\n",
        "\n",
        "print(len(X_val_1))\n",
        "print(len(X_val_2))"
      ],
      "metadata": {
        "colab": {
          "base_uri": "https://localhost:8080/"
        },
        "id": "sTTzdemeJXpQ",
        "outputId": "69b7035a-d5af-4054-9d25-f96fb7dafbea"
      },
      "execution_count": null,
      "outputs": [
        {
          "output_type": "stream",
          "name": "stdout",
          "text": [
            "274\n",
            "171\n",
            "137\n",
            "85\n",
            "138\n",
            "86\n"
          ]
        }
      ]
    },
    {
      "cell_type": "code",
      "source": [
        "X_train = np.concatenate((X_train_1, X_train_2), axis=0)\n",
        "y_train = np.concatenate((y_train_1, y_train_2), axis=0)\n",
        "\n",
        "X_test = np.concatenate((X_test_1, X_test_2), axis=0)\n",
        "y_test = np.concatenate((y_test_1, y_test_2), axis=0)\n",
        "\n",
        "X_val = np.concatenate((X_val_1, X_val_2), axis=0)\n",
        "y_val = np.concatenate((y_val_1, y_val_2), axis=0)\n"
      ],
      "metadata": {
        "id": "1jLNuRVwJZ4X"
      },
      "execution_count": null,
      "outputs": []
    },
    {
      "cell_type": "code",
      "source": [
        "print(len(X_train))\n",
        "print(len(X_test))\n",
        "print(len(X_val))"
      ],
      "metadata": {
        "colab": {
          "base_uri": "https://localhost:8080/"
        },
        "id": "mOiOWI0uJaef",
        "outputId": "c24ce4d6-ebf9-42ff-fa0a-0771ecc0600e"
      },
      "execution_count": null,
      "outputs": [
        {
          "output_type": "stream",
          "name": "stdout",
          "text": [
            "445\n",
            "222\n",
            "224\n"
          ]
        }
      ]
    },
    {
      "cell_type": "markdown",
      "source": [
        "### Igualando tamanho das classes"
      ],
      "metadata": {
        "id": "tUsLyoaaQG4b"
      }
    },
    {
      "cell_type": "code",
      "source": [
        "# É necessário garantir o equilíbrio das classes para o conjunto de treino e de validação\n",
        "ros = RandomOverSampler(random_state=0)\n",
        "X_train, y_train = ros.fit_resample(X_train, y_train)\n",
        "X_val, y_val = ros.fit_resample(X_val, y_val)"
      ],
      "metadata": {
        "id": "zAwnbbmCCHhl"
      },
      "execution_count": null,
      "outputs": []
    },
    {
      "cell_type": "code",
      "source": [
        "print(len(X_train))\n",
        "print(len(X_test))\n",
        "print(len(X_val))"
      ],
      "metadata": {
        "colab": {
          "base_uri": "https://localhost:8080/"
        },
        "id": "BDKYqhgCCIJf",
        "outputId": "a6b0b29d-b1f0-4539-c6f8-735b943b8487"
      },
      "execution_count": null,
      "outputs": [
        {
          "output_type": "stream",
          "name": "stdout",
          "text": [
            "548\n",
            "222\n",
            "276\n"
          ]
        }
      ]
    },
    {
      "cell_type": "markdown",
      "source": [
        "### Verificando se as classes estão devidamente equilibradas"
      ],
      "metadata": {
        "id": "wIjVn0wkP4wR"
      }
    },
    {
      "cell_type": "code",
      "source": [
        "import pandas as pd\n",
        "from collections import Counter\n",
        "\n",
        "# Seu código para aplicar o RandomOverSampler:\n",
        "# ros = RandomOverSampler(random_state=0)\n",
        "# X_train, y_train = ros.fit_resample(X_train, y_train)\n",
        "# X_val, y_val = ros.fit_resample(X_val, y_val) # Assumindo que X_val e y_val estão definidos\n",
        "\n",
        "print(\"--- Contagem de Classes Após Superamostragem ---\")\n",
        "\n",
        "# Para o conjunto de TREINO:\n",
        "print(\"\\nConjunto de Treino (y_train):\")\n",
        "if isinstance(y_train, (pd.Series, pd.DataFrame)):\n",
        "    print(y_train.value_counts())\n",
        "elif isinstance(y_train, np.ndarray):\n",
        "    print(Counter(y_train))\n",
        "else:\n",
        "    print(\"Tipo de y_train não reconhecido para value_counts ou Counter.\")\n",
        "\n",
        "# Para o conjunto de VALIDAÇÃO (se aplicável):\n",
        "# Se você realmente tem um X_val e y_val separados e os superamostrou, verifique-os:\n",
        "if 'X_val' in locals() and 'y_val' in locals(): # Verifica se as variáveis existem\n",
        "    print(\"\\nConjunto de Validação (y_val):\")\n",
        "    if isinstance(y_val, (pd.Series, pd.DataFrame)):\n",
        "        print(y_val.value_counts())\n",
        "    elif isinstance(y_val, np.ndarray):\n",
        "        print(Counter(y_val))\n",
        "    else:\n",
        "        print(\"Tipo de y_val não reconhecido para value_counts ou Counter.\")\n",
        "else:\n",
        "    print(\"\\nAs variáveis X_val e y_val não foram detectadas ou superamostradas neste contexto.\")\n",
        "\n",
        "print(\"\\n--- Fim da Verificação ---\")"
      ],
      "metadata": {
        "colab": {
          "base_uri": "https://localhost:8080/"
        },
        "id": "0ODVSjr5P0KI",
        "outputId": "2e2e1bfb-572b-4143-f020-4cec200e0084"
      },
      "execution_count": null,
      "outputs": [
        {
          "output_type": "stream",
          "name": "stdout",
          "text": [
            "--- Contagem de Classes Após Superamostragem ---\n",
            "\n",
            "Conjunto de Treino (y_train):\n",
            "Counter({np.int64(0): 274, np.int64(1): 274})\n",
            "\n",
            "Conjunto de Validação (y_val):\n",
            "Counter({np.int64(0): 138, np.int64(1): 138})\n",
            "\n",
            "--- Fim da Verificação ---\n"
          ]
        }
      ]
    },
    {
      "cell_type": "markdown",
      "source": [
        "### Normalização dos dados"
      ],
      "metadata": {
        "id": "KCzvGTMwP_3f"
      }
    },
    {
      "cell_type": "code",
      "source": [
        "# Normalização dos dados\n",
        "scaler = MinMaxScaler()\n",
        "X_train = scaler.fit_transform(X_train)\n",
        "X_test = scaler.transform(X_test)\n",
        "X_val = scaler.transform(X_val)"
      ],
      "metadata": {
        "id": "3M-hXzoeCC1u"
      },
      "execution_count": null,
      "outputs": []
    },
    {
      "cell_type": "markdown",
      "source": [
        "## **Parte 3 - Treinamento utilizando MLP**"
      ],
      "metadata": {
        "id": "Q-yCh25xQ5A8"
      }
    },
    {
      "cell_type": "markdown",
      "source": [
        "## Análise Experimental\n",
        "\n",
        "Para treinar a Rede Neural utilizando o método MLPClassifier da biblioteca sklearn.neural_network, seguimos um processo estruturado que envolve as seguintes etapas principais:\n",
        "\n",
        "- 🔹 Separação dos conjuntos de dados\n",
        "- 🔹 Treinamento e teste do modelo\n",
        "- 🔹 Validação final com o conjunto de teste original"
      ],
      "metadata": {
        "id": "zOTB0YwE1C1a"
      }
    },
    {
      "cell_type": "markdown",
      "source": [
        "### Separação dos Conjuntos\n",
        "\n",
        "Inicialmente, realizamos a divisão do conjunto de treino (train_set) em:\n",
        "\n",
        "- X_train e y_train — para o treinamento do modelo  \n",
        "- X_test e y_test — para teste intermediário e avaliação de desempenho\n",
        "\n",
        "O conjunto de teste original (test_set) é reservado para a **validação final**, permitindo avaliar a capacidade de generalização do modelo em dados nunca vistos."
      ],
      "metadata": {
        "id": "J-xHp_PN1-Lm"
      }
    },
    {
      "cell_type": "markdown",
      "source": [
        "## 🧠 Treinamento / Teste de Modelos\n",
        "\n",
        "Para realizar uma análise abrangente dos dados, treinamos a Rede Neural utilizando diferentes arquiteturas e parâmetros do MLPClassifier da biblioteca sklearn.neural_network.\n",
        "\n",
        "As principais variáveis ajustadas foram:\n",
        "\n",
        "- **`hidden_layer_sizes`**: Número de neurônios nas camadas ocultas.  \n",
        "  - *default = (100,)*\n",
        "\n",
        "- **`activation`**: Função de ativação para a camada oculta:\n",
        "  - identity: Função identidade, $f(x) = x$\n",
        "  - logistic: Função sigmoide logística, $f(x) = \\frac{1}{1 + e^{-x}}$\n",
        "  - tanh: Tangente hiperbólica, $f(x) = \\tanh(x)$\n",
        "  - relu: Unidade linear retificada, $f(x) = \\max(0, x)$\n",
        "\n",
        "- **`solver`**: Algoritmo de otimização dos pesos:\n",
        "  - lbfgs: Método Quasi-Newton\n",
        "  - sgd: Gradiente Descendente Estocástico\n",
        "  - adam: Otimizador adaptativo\n",
        "\n",
        "- **`learning_rate`**: Taxa de aprendizagem usada para atualização dos pesos (default: constant)\n",
        "  - constant: Taxa constante definida por learning_rate_init\n",
        "  - invscaling: Taxa decrescente com o tempo:  \n",
        "    $effective\\_learning\\_rate = \\frac{learning\\_rate\\_init}{t^{power\\_t}}$\n",
        "  - adaptive: Mantém a taxa enquanto o erro estiver diminuindo; caso contrário, divide por 5\n",
        "\n",
        "- **`alpha`**: Termo de regularização L2, que ajuda a evitar overfitting  \n",
        "  - *default = 0.0001*\n",
        "\n",
        "Esse processo permite a experimentação e o ajuste fino dos parâmetros para avaliar o desempenho da Rede Neural.\n",
        "\n",
        "---\n",
        "\n",
        "## Estratégia de Treinamento\n",
        "\n",
        "A fim de entender melhor o comportamento dos modelos, podemos modificar um parâmetro por vez, na seguinte ordem:\n",
        "\n",
        "- Função de ativação e otimizador  \n",
        "- Taxa de aprendizagem  \n",
        "- Alpha  \n",
        "- Número de camadas escondidas  \n",
        "\n",
        "São fixados os valores de alpha, hidden_layer_sizes e learning_rate para identificar quais configurações geram os melhores resultados.\n",
        "\n",
        "---\n",
        "\n",
        "## Avaliação de Desempenho\n",
        "\n",
        "Para selecionar a métrica mais apropriada para avaliação da rede neural, consideramos:\n",
        "\n",
        "### Acurácia\n",
        "Proporção de previsões corretas em relação ao total de instâncias:\n",
        "\n",
        "$$\n",
        "\\text{Acurácia} = \\frac{TP + TN}{TP + TN + FP + FN} \\tag{1}\n",
        "$$\n",
        "\n",
        "### Precisão\n",
        "Capacidade de prever corretamente os positivos (evita falsos positivos):\n",
        "\n",
        "$$\n",
        "\\text{Precisão} = \\frac{TP}{TP + FP} \\tag{2}\n",
        "$$\n",
        "\n",
        "### Recall\n",
        "Capacidade de identificar todos os positivos reais (evita falsos negativos):\n",
        "\n",
        "$$\n",
        "\\text{Recall} = \\frac{TP}{TP + FN} \\tag{3}\n",
        "$$\n",
        "\n",
        "### F1-Score\n",
        "Média harmônica entre precisão e recall:\n",
        "\n",
        "$$\n",
        "F1 = 2 \\cdot \\frac{\\text{Precisão} \\cdot \\text{Recall}}{\\text{Precisão} + \\text{Recall}} \\tag{4}\n",
        "$$\n",
        "\n",
        "---\n",
        "\n",
        "> Embora a acurácia forneça uma visão geral do desempenho, ela pode ser **enganosa em conjuntos de dados desbalanceados**. Por isso, as métricas de **precisão, recall e F1-score** são especialmente importantes para avaliar a qualidade real das previsões.\n",
        "Do conjunto de treino, temos:\n"
      ],
      "metadata": {
        "id": "jb0V28RX3V3p"
      }
    },
    {
      "cell_type": "code",
      "source": [
        "warnings.simplefilter('ignore', category=ConvergenceWarning)\n",
        "\n",
        "# Parâmetros de função de ativação\n",
        "lbfgs = {\n",
        "    'identity': MLPClassifier(hidden_layer_sizes=(10,10), max_iter=1200, activation='identity', solver='lbfgs', alpha=0.0001),\n",
        "    'logistic': MLPClassifier(hidden_layer_sizes=(10,50), max_iter=1200, activation='logistic', solver='lbfgs', alpha=0.0001),\n",
        "    'tanh': MLPClassifier(hidden_layer_sizes=(10,10), max_iter=1200, activation='tanh', solver='lbfgs', alpha=0.0001),\n",
        "    'relu': MLPClassifier(hidden_layer_sizes=(10,10), max_iter=1200, activation='relu', solver='lbfgs', alpha=0.0001)\n",
        "}\n",
        "\n",
        "adam = {\n",
        "    'identity': MLPClassifier(hidden_layer_sizes=(10,10), max_iter=1200, activation='identity', solver='adam', alpha=0.0001),\n",
        "    'logistic': MLPClassifier(hidden_layer_sizes=(10,10), max_iter=1200, activation='logistic', solver='adam', alpha=0.0001),\n",
        "    'tanh': MLPClassifier(hidden_layer_sizes=(10,10), max_iter=1200, activation='tanh', solver='adam', alpha=0.0001),\n",
        "    'relu': MLPClassifier(hidden_layer_sizes=(10,10), max_iter=1200, activation='relu', solver='adam', alpha=0.0001)\n",
        "}\n",
        "\n",
        "sgd = {\n",
        "    'identity': MLPClassifier(hidden_layer_sizes=(10,10), max_iter=1200, activation='identity', solver='sgd', alpha=0.0001),\n",
        "    'logistic': MLPClassifier(hidden_layer_sizes=(10,10), max_iter=1200, activation='logistic', solver='sgd', alpha=0.0001),\n",
        "    'tanh': MLPClassifier(hidden_layer_sizes=(10,10), max_iter=1200, activation='tanh', solver='sgd', alpha=0.0001),\n",
        "    'relu': MLPClassifier(hidden_layer_sizes=(10,10), max_iter=1200, activation='relu', solver='sgd', alpha=0.0001)\n",
        "}\n",
        "\n",
        "# Treinar modelos alternando a função de ativação\n",
        "print('Solver - lbfgs')\n",
        "print('-' * 50)\n",
        "for function, mlp in lbfgs.items():\n",
        "    # fold no dataset de validação\n",
        "    X_val_chosen, X_val_discarded, y_val_chosen, y_val_discarded = train_test_split(\n",
        "      X_val,y_val,\n",
        "      train_size=0.75,\n",
        "      random_state=1)\n",
        "\n",
        "    mlp.fit(X_train, y_train)\n",
        "    y_pred = mlp.predict(X_val_chosen)\n",
        "    print(f'Function {function} accuracy: {accuracy_score(y_val_chosen, y_pred)}')\n",
        "    print(f'Function {function} F1 Score: {f1_score(y_val_chosen, y_pred)}\\n')\n",
        "print()\n",
        "\n",
        "print('Solver - sgd')\n",
        "print('-' * 50)\n",
        "for function, mlp in sgd.items():\n",
        "    # fold no dataset de validação\n",
        "    X_val_chosen, X_val_discarded, y_val_chosen, y_val_discarded = train_test_split(\n",
        "      X_val,y_val,\n",
        "      train_size=0.75,\n",
        "      random_state=1)\n",
        "\n",
        "    mlp.fit(X_train, y_train)\n",
        "    y_pred = mlp.predict(X_val_chosen)\n",
        "    print(f'Function {function} accuracy: {accuracy_score(y_val_chosen, y_pred)}')\n",
        "    print(f'Function {function} F1 Score: {f1_score(y_val_chosen, y_pred)}\\n')\n",
        "print()\n",
        "\n",
        "print('Solver - adam')\n",
        "print('-' * 50)\n",
        "for function, mlp in adam.items():\n",
        "    # fold no dataset de validação\n",
        "    X_val_chosen, X_val_discarded, y_val_chosen, y_val_discarded = train_test_split(\n",
        "      X_val,y_val,\n",
        "      train_size=0.75,\n",
        "      random_state=1)\n",
        "\n",
        "    mlp.fit(X_train, y_train)\n",
        "    y_pred = mlp.predict(X_val_chosen)\n",
        "    print(f'Function {function} accuracy: {accuracy_score(y_val_chosen, y_pred)}')\n",
        "    print(f'Function {function} F1 Score: {f1_score(y_val_chosen, y_pred)}\\n')\n",
        "print()"
      ],
      "metadata": {
        "colab": {
          "base_uri": "https://localhost:8080/"
        },
        "id": "5EH6Q8u7520X",
        "outputId": "3dd6103b-5621-4791-f2fd-0425b3f5c798"
      },
      "execution_count": null,
      "outputs": [
        {
          "output_type": "stream",
          "name": "stdout",
          "text": [
            "Solver - lbfgs\n",
            "--------------------------------------------------\n",
            "Function identity accuracy: 0.7439613526570048\n",
            "Function identity F1 Score: 0.7439613526570048\n",
            "\n",
            "Function logistic accuracy: 0.855072463768116\n",
            "Function logistic F1 Score: 0.8543689320388349\n",
            "\n",
            "Function tanh accuracy: 0.7777777777777778\n",
            "Function tanh F1 Score: 0.7788461538461539\n",
            "\n",
            "Function relu accuracy: 0.7874396135265701\n",
            "Function relu F1 Score: 0.7731958762886598\n",
            "\n",
            "\n",
            "Solver - sgd\n",
            "--------------------------------------------------\n",
            "Function identity accuracy: 0.7632850241545893\n",
            "Function identity F1 Score: 0.751269035532995\n",
            "\n",
            "Function logistic accuracy: 0.5120772946859904\n",
            "Function logistic F1 Score: 0.6773162939297125\n",
            "\n",
            "Function tanh accuracy: 0.7632850241545893\n",
            "Function tanh F1 Score: 0.7487179487179487\n",
            "\n",
            "Function relu accuracy: 0.7584541062801933\n",
            "Function relu F1 Score: 0.7448979591836735\n",
            "\n",
            "\n",
            "Solver - adam\n",
            "--------------------------------------------------\n",
            "Function identity accuracy: 0.7439613526570048\n",
            "Function identity F1 Score: 0.7414634146341463\n",
            "\n",
            "Function logistic accuracy: 0.7536231884057971\n",
            "Function logistic F1 Score: 0.7487684729064039\n",
            "\n",
            "Function tanh accuracy: 0.748792270531401\n",
            "Function tanh F1 Score: 0.7450980392156863\n",
            "\n",
            "Function relu accuracy: 0.7681159420289855\n",
            "Function relu F1 Score: 0.7647058823529411\n",
            "\n",
            "\n"
          ]
        }
      ]
    },
    {
      "cell_type": "code",
      "source": [
        "clf = MLPClassifier(max_iter=1000, hidden_layer_sizes = (10, 10, 10), solver= 'adam', activation='relu').fit(X_train, y_train)\n",
        "y_pred = clf.predict(X_test)\n",
        "y_pred"
      ],
      "metadata": {
        "id": "8edkprn-FHeR",
        "colab": {
          "base_uri": "https://localhost:8080/"
        },
        "collapsed": true,
        "outputId": "08f26d7c-5819-47f6-ca0e-903f5b64e754"
      },
      "execution_count": null,
      "outputs": [
        {
          "output_type": "execute_result",
          "data": {
            "text/plain": [
              "array([0, 0, 0, 0, 0, 0, 0, 0, 0, 0, 1, 0, 0, 0, 0, 0, 0, 0, 0, 0, 0, 0,\n",
              "       0, 0, 0, 0, 1, 0, 1, 0, 0, 0, 0, 0, 0, 0, 1, 0, 1, 1, 0, 0, 0, 0,\n",
              "       0, 0, 0, 0, 0, 0, 0, 0, 0, 0, 0, 1, 0, 0, 0, 0, 0, 1, 1, 0, 0, 0,\n",
              "       0, 0, 0, 0, 1, 0, 1, 0, 0, 0, 0, 0, 0, 0, 0, 0, 1, 0, 0, 0, 0, 1,\n",
              "       0, 0, 0, 0, 1, 0, 0, 0, 0, 1, 1, 0, 0, 0, 0, 0, 1, 0, 0, 1, 0, 1,\n",
              "       0, 0, 1, 0, 0, 0, 0, 0, 0, 0, 0, 0, 1, 0, 0, 1, 0, 0, 0, 0, 0, 1,\n",
              "       0, 0, 0, 0, 0, 1, 1, 1, 1, 0, 1, 0, 1, 1, 0, 1, 1, 0, 1, 1, 1, 1,\n",
              "       1, 1, 1, 1, 1, 1, 0, 0, 1, 1, 0, 1, 0, 1, 1, 1, 1, 1, 1, 1, 1, 1,\n",
              "       1, 1, 1, 1, 1, 1, 1, 1, 1, 0, 1, 1, 0, 1, 1, 1, 1, 1, 1, 1, 0, 0,\n",
              "       1, 1, 1, 1, 0, 1, 1, 1, 0, 1, 1, 1, 1, 1, 1, 1, 0, 1, 1, 1, 1, 1,\n",
              "       1, 1])"
            ]
          },
          "metadata": {},
          "execution_count": 42
        }
      ]
    },
    {
      "cell_type": "code",
      "source": [
        "from sklearn.metrics import confusion_matrix, accuracy_score\n",
        "cm = confusion_matrix(y_test, y_pred)\n",
        "print(cm)\n",
        "accuracy_score(y_test, y_pred)"
      ],
      "metadata": {
        "colab": {
          "base_uri": "https://localhost:8080/"
        },
        "id": "oJN-_ee4TcNI",
        "outputId": "fb903c36-882d-4824-f6ab-96af3f1170fa"
      },
      "execution_count": null,
      "outputs": [
        {
          "output_type": "stream",
          "name": "stdout",
          "text": [
            "[[114  23]\n",
            " [ 15  70]]\n"
          ]
        },
        {
          "output_type": "execute_result",
          "data": {
            "text/plain": [
              "0.8288288288288288"
            ]
          },
          "metadata": {},
          "execution_count": 43
        }
      ]
    },
    {
      "cell_type": "code",
      "source": [
        "cmap = sns.light_palette('salmon', as_cmap=True)\n",
        "plt.figure(figsize=(5, 4))\n",
        "sns.heatmap(cm, square=True, cmap=cmap, annot=True, annot_kws={'size': 9}, linecolor='white', linewidths=0.01, fmt='d')\n",
        "plt.title('Confusion Matrix')\n",
        "plt.show()"
      ],
      "metadata": {
        "colab": {
          "base_uri": "https://localhost:8080/",
          "height": 391
        },
        "id": "AFkPA3pPT9Ca",
        "outputId": "25d6f602-c181-4b16-d4bc-5608db64cb09"
      },
      "execution_count": null,
      "outputs": [
        {
          "output_type": "display_data",
          "data": {
            "text/plain": [
              "<Figure size 500x400 with 2 Axes>"
            ],
            "image/png": "[encoded data removed]"
          },
          "metadata": {}
        }
      ]
    },
    {
      "cell_type": "code",
      "source": [
        "# Certifique-se de que X_train e y_original são seus dados de treino e rótulos\n",
        "# Se você já fez um train_test_split, estes são os dados para o K-Fold.\n",
        "# Faça cópias para evitar modificações nos dados originais durante o loop.\n",
        "X_train_original = X_train.copy()\n",
        "y_original = y_train.copy()\n",
        "\n",
        "# Configuração do K-Fold\n",
        "k = 5\n",
        "skf = StratifiedKFold(n_splits=k, shuffle=True, random_state=42)\n",
        "\n",
        "# Listas para armazenar as métricas de cada fold\n",
        "accuracies = []\n",
        "\n",
        "# Loop pelos folds\n",
        "for fold, (train_index, test_index) in enumerate(skf.split(X_train_original, y_original), start=1):\n",
        "    # Separa os dados de treino e teste para o fold atual\n",
        "    X_train_fold = X_train_original[train_index]\n",
        "    X_test_fold = X_train_original[test_index]\n",
        "    y_train_fold = y_original[train_index]\n",
        "    y_test_fold = y_original[test_index]\n",
        "\n",
        "    # Inicializa e treina o modelo MLP\n",
        "    model = MLPClassifier(hidden_layer_sizes=(100,), max_iter=300, random_state=42)\n",
        "    model.fit(X_train_fold, y_train_fold)\n",
        "\n",
        "    # Avaliação do modelo\n",
        "    y_pred = model.predict(X_test_fold)\n",
        "    acc = accuracy_score(y_test_fold, y_pred)\n",
        "\n",
        "    print(f\"Fold {fold} - Acurácia: {acc:.4f}\")\n",
        "    print(classification_report(y_test_fold, y_pred))\n",
        "\n",
        "    # Armazena a acurácia\n",
        "    accuracies.append(acc)\n",
        "\n",
        "# Resultados finais\n",
        "print(\"\\n--- Resultados Finais ---\")\n",
        "print(f\"Acurácia Média em {k} Folds: {np.mean(accuracies):.4f} +/- {np.std(accuracies):.4f}\")"
      ],
      "metadata": {
        "colab": {
          "base_uri": "https://localhost:8080/"
        },
        "id": "1VPQff4llV2i",
        "outputId": "efec92cb-c4aa-40b9-e64e-1cac3486560d"
      },
      "execution_count": null,
      "outputs": [
        {
          "output_type": "stream",
          "name": "stdout",
          "text": [
            "Fold 1 - Acurácia: 0.7636\n",
            "              precision    recall  f1-score   support\n",
            "\n",
            "           0       0.77      0.75      0.76        55\n",
            "           1       0.75      0.78      0.77        55\n",
            "\n",
            "    accuracy                           0.76       110\n",
            "   macro avg       0.76      0.76      0.76       110\n",
            "weighted avg       0.76      0.76      0.76       110\n",
            "\n",
            "Fold 2 - Acurácia: 0.8636\n",
            "              precision    recall  f1-score   support\n",
            "\n",
            "           0       0.84      0.89      0.87        55\n",
            "           1       0.88      0.84      0.86        55\n",
            "\n",
            "    accuracy                           0.86       110\n",
            "   macro avg       0.86      0.86      0.86       110\n",
            "weighted avg       0.86      0.86      0.86       110\n",
            "\n",
            "Fold 3 - Acurácia: 0.7273\n",
            "              precision    recall  f1-score   support\n",
            "\n",
            "           0       0.73      0.73      0.73        55\n",
            "           1       0.73      0.73      0.73        55\n",
            "\n",
            "    accuracy                           0.73       110\n",
            "   macro avg       0.73      0.73      0.73       110\n",
            "weighted avg       0.73      0.73      0.73       110\n",
            "\n",
            "Fold 4 - Acurácia: 0.8257\n",
            "              precision    recall  f1-score   support\n",
            "\n",
            "           0       0.83      0.82      0.83        55\n",
            "           1       0.82      0.83      0.83        54\n",
            "\n",
            "    accuracy                           0.83       109\n",
            "   macro avg       0.83      0.83      0.83       109\n",
            "weighted avg       0.83      0.83      0.83       109\n",
            "\n",
            "Fold 5 - Acurácia: 0.8257\n",
            "              precision    recall  f1-score   support\n",
            "\n",
            "           0       0.83      0.81      0.82        54\n",
            "           1       0.82      0.84      0.83        55\n",
            "\n",
            "    accuracy                           0.83       109\n",
            "   macro avg       0.83      0.83      0.83       109\n",
            "weighted avg       0.83      0.83      0.83       109\n",
            "\n",
            "\n",
            "--- Resultados Finais ---\n",
            "Acurácia Média em 5 Folds: 0.8012 +/- 0.0489\n"
          ]
        }
      ]
    },
    {
      "cell_type": "code",
      "source": [
        "from sklearn.model_selection import GridSearchCV\n",
        "\n",
        "# 1. Definindo o Estimador Base\n",
        "#    Criamos um modelo MLPClassifier base. Os parâmetros que queremos testar\n",
        "#    serão definidos no grid.\n",
        "mlp = MLPClassifier(max_iter=1000, random_state=42)\n",
        "\n",
        "\n",
        "# 2. Definindo o Grid de Hiperparâmetros (param_grid)\n",
        "#    Este dicionário contém todos os parâmetros que você quer testar.\n",
        "#    GridSearchCV testará TODAS as combinações possíveis.\n",
        "#    Adicionei mais alguns parâmetros para uma busca mais completa.\n",
        "parameters = {\n",
        "    'hidden_layer_sizes': [(50,50), (50, 50, 50), (50, 100), (10, 10, 10),],\n",
        "    'activation': ['tanh', 'relu', 'logistic'],\n",
        "    'solver': ['adam', 'sgd'],\n",
        "    'alpha': [0.0001, 0.001, 0.01],\n",
        "}\n",
        "\n",
        "# 3. Configurando o GridSearchCV\n",
        "#    - estimator: o modelo base.\n",
        "#    - param_grid: o dicionário com os parâmetros a testar.\n",
        "#    - cv: o número de folds para a validação cruzada (StratifiedKFold é usado por padrão em classificadores).\n",
        "#    - scoring: a métrica para avaliar o melhor modelo ('accuracy', 'f1_weighted', etc.).\n",
        "#    - n_jobs=-1: usa todos os processadores disponíveis para acelerar a busca.\n",
        "grid_search = GridSearchCV(\n",
        "    estimator=mlp,\n",
        "    param_grid=parameters,\n",
        "    cv=5,\n",
        "    scoring='accuracy',\n",
        "    n_jobs=-1,\n",
        "    verbose=1 # Mostra o progresso do treinamento\n",
        ")\n",
        "\n",
        "# 4. Executando a Busca\n",
        "#    O .fit() treina o modelo com todas as combinações de parâmetros e validação cruzada.\n",
        "print(\"Iniciando a busca pelos melhores hiperparâmetros...\")\n",
        "grid_search.fit(X_train, y_train)\n",
        "\n",
        "\n",
        "# 5. Analisando os Resultados\n",
        "print(\"\\n--- Resultados do GridSearchCV ---\")\n",
        "\n",
        "# Mostra os melhores parâmetros encontrados\n",
        "print(f\"Melhores Parâmetros: {grid_search.best_params_}\")\n",
        "\n",
        "# Mostra a melhor pontuação de acurácia durante a validação cruzada\n",
        "print(f\"Melhor Acurácia (CV): {grid_search.best_score_:.4f}\")\n",
        "\n",
        "\n",
        "# 6. Avaliando o Melhor Modelo no Conjunto de Teste\n",
        "print(\"\\n--- Avaliação do Melhor Modelo no Conjunto de Teste ---\")\n",
        "# O grid_search já retreina o melhor modelo (best_estimator_) com todos os dados de treino.\n",
        "# Agora usamos ele para prever nos dados de teste que foram guardados.\n",
        "best_model = grid_search.best_estimator_\n",
        "y_pred = best_model.predict(X_test)\n",
        "\n",
        "print(classification_report(y_test, y_pred))"
      ],
      "metadata": {
        "colab": {
          "base_uri": "https://localhost:8080/"
        },
        "id": "FLZWRYe4epIg",
        "outputId": "9e97a01a-5425-4818-9056-1991b41e5ed9"
      },
      "execution_count": null,
      "outputs": [
        {
          "output_type": "stream",
          "name": "stdout",
          "text": [
            "Iniciando a busca pelos melhores hiperparâmetros...\n",
            "Fitting 5 folds for each of 72 candidates, totalling 360 fits\n",
            "\n",
            "--- Resultados do GridSearchCV ---\n",
            "Melhores Parâmetros: {'activation': 'relu', 'alpha': 0.001, 'hidden_layer_sizes': (50, 50), 'solver': 'adam'}\n",
            "Melhor Acurácia (CV): 0.8285\n",
            "\n",
            "--- Avaliação do Melhor Modelo no Conjunto de Teste ---\n",
            "              precision    recall  f1-score   support\n",
            "\n",
            "           0       0.84      0.84      0.84       137\n",
            "           1       0.74      0.74      0.74        85\n",
            "\n",
            "    accuracy                           0.80       222\n",
            "   macro avg       0.79      0.79      0.79       222\n",
            "weighted avg       0.80      0.80      0.80       222\n",
            "\n"
          ]
        }
      ]
    },
    {
      "cell_type": "code",
      "source": [
        "print(\"\\n--- Treinando o Modelo Final com os Parâmetros Otimizados ---\")\n",
        "\n",
        "# 1. Extrair o dicionário com os melhores parâmetros encontrados\n",
        "best_params = grid_search.best_params_\n",
        "print(f\"Parâmetros utilizados: {best_params}\")\n",
        "\n",
        "# 2. Criar uma nova instância do modelo com esses parâmetros\n",
        "#    O operador ** descompacta o dicionário 'best_params' nos argumentos do MLPClassifier.\n",
        "#    Adicionamos 'random_state' para garantir que o resultado seja sempre o mesmo.\n",
        "final_model = MLPClassifier(random_state=42, **best_params)\n",
        "\n",
        "# 3. Treinar (fit) o modelo final com o conjunto de treino COMPLETO\n",
        "final_model.fit(X_train, y_train)\n",
        "\n",
        "print(\"\\nModelo final treinado com sucesso!\")\n",
        "\n",
        "# 4. Avaliar o desempenho do modelo final no conjunto de teste\n",
        "print(\"\\n--- Desempenho do Modelo Final no Conjunto de Teste ---\")\n",
        "\n",
        "# LINHA ESSENCIAL PARA CONECTAR O GRIDSEARCH AO PLOT:\n",
        "y_pred_final = grid_search.best_estimator_.predict(X_test)\n",
        "\n",
        "# Exibe o relatório de classificação e a acurácia\n",
        "print(classification_report(y_test, y_pred_final))\n",
        "print(f\"Acurácia Final: {accuracy_score(y_test, y_pred_final):.4f}\")"
      ],
      "metadata": {
        "colab": {
          "base_uri": "https://localhost:8080/"
        },
        "id": "_y_ikn5FjApN",
        "outputId": "e7ead41f-6b26-4e94-c332-61cac55de3f2"
      },
      "execution_count": null,
      "outputs": [
        {
          "output_type": "stream",
          "name": "stdout",
          "text": [
            "\n",
            "--- Treinando o Modelo Final com os Parâmetros Otimizados ---\n",
            "Parâmetros utilizados: {'activation': 'relu', 'alpha': 0.001, 'hidden_layer_sizes': (50, 50), 'solver': 'adam'}\n",
            "\n",
            "Modelo final treinado com sucesso!\n",
            "\n",
            "--- Desempenho do Modelo Final no Conjunto de Teste ---\n",
            "              precision    recall  f1-score   support\n",
            "\n",
            "           0       0.84      0.84      0.84       137\n",
            "           1       0.74      0.74      0.74        85\n",
            "\n",
            "    accuracy                           0.80       222\n",
            "   macro avg       0.79      0.79      0.79       222\n",
            "weighted avg       0.80      0.80      0.80       222\n",
            "\n",
            "Acurácia Final: 0.8018\n"
          ]
        }
      ]
    },
    {
      "cell_type": "code",
      "source": [
        "# 1. Calcular a matriz de confusão\n",
        "cm = confusion_matrix(y_test, y_pred_final)\n",
        "\n",
        "# 2. Plotar a matriz de confusão\n",
        "cmap = sns.light_palette('salmon', as_cmap=True)\n",
        "\n",
        "plt.figure(figsize=(5, 4))\n",
        "\n",
        "sns.heatmap(\n",
        "    cm,\n",
        "    square=True,\n",
        "    cmap=cmap,\n",
        "    annot=True,               # Exibir os números em cada célula\n",
        "    annot_kws={'size': 12},   # Tamanho da fonte dos números\n",
        "    linecolor='white',\n",
        "    linewidths=0.1,\n",
        "    fmt='d'                   # Formatar os números como inteiros\n",
        ")\n",
        "\n",
        "plt.title('Matriz de Confusão - Modelo Final Otimizado', fontsize=16)\n",
        "plt.xlabel('Valores Previstos', fontsize=12)\n",
        "plt.ylabel('Valores Reais', fontsize=12)\n",
        "plt.show()\n",
        "\n",
        "print(f\"Acurácia Final: {accuracy_score(y_test, y_pred_final):.4f}\")"
      ],
      "metadata": {
        "id": "YpO0Fk-hkaAT"
      },
      "execution_count": null,
      "outputs": []
    },
    {
      "cell_type": "markdown",
      "source": [
        "."
      ],
      "metadata": {
        "id": "gCsG-ozsHHmQ"
      }
    }
  ]
}